{
 "cells": [
  {
   "cell_type": "markdown",
   "metadata": {},
   "source": [
    "# Game Success Analysis"
   ]
  },
  {
   "cell_type": "markdown",
   "metadata": {},
   "source": [
    "## Introduction\n",
    "\n",
    "The purpose of this project is to identify patterns that determine whether a game succeeds or not in order to spot potential big winners and plan advertising campaigns. We need to analyze the data based on sales, platform, genre, reviews and ratings. We would also need to form hypotheses to prove if the distribution among certain platforms and certain genres are similar.\n",
    "\n",
    "### Contents\n",
    "\n",
    "- Introduction\n",
    "- Initialization\n",
    "- Data preprocessing\n",
    "    - Missing values\n",
    "    - Correct data types\n",
    "    - Enrich data\n",
    "- Data exploration\n",
    "    - Plot graphs\n",
    "    - Plot boxplot\n",
    "    - Plot scatterplot graphs\n",
    "    - User profiles for regions\n",
    "- Testing the hypotheses\n",
    "    - The average user ratings of the Xbox One and PC platforms are the same\n",
    "    - The average user ratings for the Action and Sports genres are different\n",
    "- General Conclusion"
   ]
  },
  {
   "cell_type": "markdown",
   "metadata": {},
   "source": [
    "# Initialization"
   ]
  },
  {
   "cell_type": "markdown",
   "metadata": {},
   "source": [
    "Loading all essential libraries"
   ]
  },
  {
   "cell_type": "code",
   "execution_count": 1,
   "metadata": {},
   "outputs": [],
   "source": [
    "# loading the pandas library\n",
    "import pandas as pd\n",
    "# loading the math library\n",
    "import math\n",
    "# Loading matplotlib library\n",
    "import matplotlib.pyplot as plt\n",
    "# loading the numpy library\n",
    "import numpy as np\n",
    "# Loading the scipy library\n",
    "from scipy import stats as st"
   ]
  },
  {
   "cell_type": "markdown",
   "metadata": {},
   "source": [
    "Loading the data file"
   ]
  },
  {
   "cell_type": "code",
   "execution_count": 2,
   "metadata": {},
   "outputs": [],
   "source": [
    "# Load the data file into a DataFrame\n",
    "games_data = pd.read_csv('/datasets/games.csv')"
   ]
  },
  {
   "cell_type": "markdown",
   "metadata": {},
   "source": [
    "## Data Preprocessing"
   ]
  },
  {
   "cell_type": "markdown",
   "metadata": {},
   "source": [
    "General information for the dataframe"
   ]
  },
  {
   "cell_type": "code",
   "execution_count": 3,
   "metadata": {},
   "outputs": [
    {
     "name": "stdout",
     "output_type": "stream",
     "text": [
      "<class 'pandas.core.frame.DataFrame'>\n",
      "RangeIndex: 16715 entries, 0 to 16714\n",
      "Data columns (total 11 columns):\n",
      " #   Column           Non-Null Count  Dtype  \n",
      "---  ------           --------------  -----  \n",
      " 0   Name             16713 non-null  object \n",
      " 1   Platform         16715 non-null  object \n",
      " 2   Year_of_Release  16446 non-null  float64\n",
      " 3   Genre            16713 non-null  object \n",
      " 4   NA_sales         16715 non-null  float64\n",
      " 5   EU_sales         16715 non-null  float64\n",
      " 6   JP_sales         16715 non-null  float64\n",
      " 7   Other_sales      16715 non-null  float64\n",
      " 8   Critic_Score     8137 non-null   float64\n",
      " 9   User_Score       10014 non-null  object \n",
      " 10  Rating           9949 non-null   object \n",
      "dtypes: float64(6), object(5)\n",
      "memory usage: 1.4+ MB\n"
     ]
    }
   ],
   "source": [
    "# general info\n",
    "games_data.info()"
   ]
  },
  {
   "cell_type": "markdown",
   "metadata": {},
   "source": [
    "Lowering the cases of column name to avoid mistakes"
   ]
  },
  {
   "cell_type": "code",
   "execution_count": 4,
   "metadata": {},
   "outputs": [],
   "source": [
    "# lower cases of column names\n",
    "games_data.columns = games_data.columns.str.lower()"
   ]
  },
  {
   "cell_type": "code",
   "execution_count": 5,
   "metadata": {},
   "outputs": [
    {
     "name": "stdout",
     "output_type": "stream",
     "text": [
      "<class 'pandas.core.frame.DataFrame'>\n",
      "RangeIndex: 16715 entries, 0 to 16714\n",
      "Data columns (total 11 columns):\n",
      " #   Column           Non-Null Count  Dtype  \n",
      "---  ------           --------------  -----  \n",
      " 0   name             16713 non-null  object \n",
      " 1   platform         16715 non-null  object \n",
      " 2   year_of_release  16446 non-null  float64\n",
      " 3   genre            16713 non-null  object \n",
      " 4   na_sales         16715 non-null  float64\n",
      " 5   eu_sales         16715 non-null  float64\n",
      " 6   jp_sales         16715 non-null  float64\n",
      " 7   other_sales      16715 non-null  float64\n",
      " 8   critic_score     8137 non-null   float64\n",
      " 9   user_score       10014 non-null  object \n",
      " 10  rating           9949 non-null   object \n",
      "dtypes: float64(6), object(5)\n",
      "memory usage: 1.4+ MB\n"
     ]
    }
   ],
   "source": [
    "# check result\n",
    "games_data.info()"
   ]
  },
  {
   "cell_type": "code",
   "execution_count": 6,
   "metadata": {},
   "outputs": [
    {
     "data": {
      "text/html": [
       "<div>\n",
       "<style scoped>\n",
       "    .dataframe tbody tr th:only-of-type {\n",
       "        vertical-align: middle;\n",
       "    }\n",
       "\n",
       "    .dataframe tbody tr th {\n",
       "        vertical-align: top;\n",
       "    }\n",
       "\n",
       "    .dataframe thead th {\n",
       "        text-align: right;\n",
       "    }\n",
       "</style>\n",
       "<table border=\"1\" class=\"dataframe\">\n",
       "  <thead>\n",
       "    <tr style=\"text-align: right;\">\n",
       "      <th></th>\n",
       "      <th>name</th>\n",
       "      <th>platform</th>\n",
       "      <th>year_of_release</th>\n",
       "      <th>genre</th>\n",
       "      <th>na_sales</th>\n",
       "      <th>eu_sales</th>\n",
       "      <th>jp_sales</th>\n",
       "      <th>other_sales</th>\n",
       "      <th>critic_score</th>\n",
       "      <th>user_score</th>\n",
       "      <th>rating</th>\n",
       "    </tr>\n",
       "  </thead>\n",
       "  <tbody>\n",
       "    <tr>\n",
       "      <th>122</th>\n",
       "      <td>FIFA 12</td>\n",
       "      <td>PS3</td>\n",
       "      <td>2011.0</td>\n",
       "      <td>Sports</td>\n",
       "      <td>0.84</td>\n",
       "      <td>4.3</td>\n",
       "      <td>0.11</td>\n",
       "      <td>1.39</td>\n",
       "      <td>NaN</td>\n",
       "      <td>NaN</td>\n",
       "      <td>NaN</td>\n",
       "    </tr>\n",
       "  </tbody>\n",
       "</table>\n",
       "</div>"
      ],
      "text/plain": [
       "        name platform  year_of_release   genre  na_sales  eu_sales  jp_sales  \\\n",
       "122  FIFA 12      PS3           2011.0  Sports      0.84       4.3      0.11   \n",
       "\n",
       "     other_sales  critic_score user_score rating  \n",
       "122         1.39           NaN        NaN    NaN  "
      ]
     },
     "execution_count": 6,
     "metadata": {},
     "output_type": "execute_result"
    }
   ],
   "source": [
    "# sample data\n",
    "games_data.sample()"
   ]
  },
  {
   "cell_type": "markdown",
   "metadata": {},
   "source": [
    "### Missing Values"
   ]
  },
  {
   "cell_type": "markdown",
   "metadata": {},
   "source": [
    "We need to check for missing values in the dataframe before analysis"
   ]
  },
  {
   "cell_type": "code",
   "execution_count": 7,
   "metadata": {},
   "outputs": [
    {
     "data": {
      "text/plain": [
       "name                  2\n",
       "platform              0\n",
       "year_of_release     269\n",
       "genre                 2\n",
       "na_sales              0\n",
       "eu_sales              0\n",
       "jp_sales              0\n",
       "other_sales           0\n",
       "critic_score       8578\n",
       "user_score         6701\n",
       "rating             6766\n",
       "dtype: int64"
      ]
     },
     "execution_count": 7,
     "metadata": {},
     "output_type": "execute_result"
    }
   ],
   "source": [
    "# count missing values in the dataframe\n",
    "games_data.isna().sum()"
   ]
  },
  {
   "cell_type": "markdown",
   "metadata": {},
   "source": [
    "There are only 2 missing values in the `'name'` and `'genre'` columns. Let us take a look at these values."
   ]
  },
  {
   "cell_type": "code",
   "execution_count": 8,
   "metadata": {},
   "outputs": [
    {
     "data": {
      "text/html": [
       "<div>\n",
       "<style scoped>\n",
       "    .dataframe tbody tr th:only-of-type {\n",
       "        vertical-align: middle;\n",
       "    }\n",
       "\n",
       "    .dataframe tbody tr th {\n",
       "        vertical-align: top;\n",
       "    }\n",
       "\n",
       "    .dataframe thead th {\n",
       "        text-align: right;\n",
       "    }\n",
       "</style>\n",
       "<table border=\"1\" class=\"dataframe\">\n",
       "  <thead>\n",
       "    <tr style=\"text-align: right;\">\n",
       "      <th></th>\n",
       "      <th>name</th>\n",
       "      <th>platform</th>\n",
       "      <th>year_of_release</th>\n",
       "      <th>genre</th>\n",
       "      <th>na_sales</th>\n",
       "      <th>eu_sales</th>\n",
       "      <th>jp_sales</th>\n",
       "      <th>other_sales</th>\n",
       "      <th>critic_score</th>\n",
       "      <th>user_score</th>\n",
       "      <th>rating</th>\n",
       "    </tr>\n",
       "  </thead>\n",
       "  <tbody>\n",
       "    <tr>\n",
       "      <th>659</th>\n",
       "      <td>NaN</td>\n",
       "      <td>GEN</td>\n",
       "      <td>1993.0</td>\n",
       "      <td>NaN</td>\n",
       "      <td>1.78</td>\n",
       "      <td>0.53</td>\n",
       "      <td>0.00</td>\n",
       "      <td>0.08</td>\n",
       "      <td>NaN</td>\n",
       "      <td>NaN</td>\n",
       "      <td>NaN</td>\n",
       "    </tr>\n",
       "    <tr>\n",
       "      <th>14244</th>\n",
       "      <td>NaN</td>\n",
       "      <td>GEN</td>\n",
       "      <td>1993.0</td>\n",
       "      <td>NaN</td>\n",
       "      <td>0.00</td>\n",
       "      <td>0.00</td>\n",
       "      <td>0.03</td>\n",
       "      <td>0.00</td>\n",
       "      <td>NaN</td>\n",
       "      <td>NaN</td>\n",
       "      <td>NaN</td>\n",
       "    </tr>\n",
       "  </tbody>\n",
       "</table>\n",
       "</div>"
      ],
      "text/plain": [
       "      name platform  year_of_release genre  na_sales  eu_sales  jp_sales  \\\n",
       "659    NaN      GEN           1993.0   NaN      1.78      0.53      0.00   \n",
       "14244  NaN      GEN           1993.0   NaN      0.00      0.00      0.03   \n",
       "\n",
       "       other_sales  critic_score user_score rating  \n",
       "659           0.08           NaN        NaN    NaN  \n",
       "14244         0.00           NaN        NaN    NaN  "
      ]
     },
     "execution_count": 8,
     "metadata": {},
     "output_type": "execute_result"
    }
   ],
   "source": [
    "# missing values in name column\n",
    "games_data[games_data['name'].isna()]"
   ]
  },
  {
   "cell_type": "markdown",
   "metadata": {},
   "source": [
    "From what we see, the missing information is linked to the GEN platform with 1993 as its release year. It is understandable that information on the game and its genre would most likely be unknown or just not recorded. Notice how the reviews and rating are also not recorded. Since there are so few NaN values, these rows can be dropped."
   ]
  },
  {
   "cell_type": "code",
   "execution_count": 9,
   "metadata": {},
   "outputs": [],
   "source": [
    "# drop rows with NaN values in the name column\n",
    "games_data.dropna(subset = ['name'], inplace = True)"
   ]
  },
  {
   "cell_type": "code",
   "execution_count": 10,
   "metadata": {},
   "outputs": [],
   "source": [
    "# reset dataframe index\n",
    "games_data.reset_index(drop = True, inplace = True)"
   ]
  },
  {
   "cell_type": "code",
   "execution_count": 11,
   "metadata": {},
   "outputs": [
    {
     "data": {
      "text/plain": [
       "name                0.000000\n",
       "platform            0.000000\n",
       "year_of_release     1.609526\n",
       "genre               0.000000\n",
       "na_sales            0.000000\n",
       "eu_sales            0.000000\n",
       "jp_sales            0.000000\n",
       "other_sales         0.000000\n",
       "critic_score       51.313349\n",
       "user_score         40.082570\n",
       "rating             40.471489\n",
       "dtype: float64"
      ]
     },
     "execution_count": 11,
     "metadata": {},
     "output_type": "execute_result"
    }
   ],
   "source": [
    "# percent of missing data\n",
    "games_data.isna().sum() / len(games_data) * 100"
   ]
  },
  {
   "cell_type": "markdown",
   "metadata": {},
   "source": [
    "The data above shows that about 1.6% percent of the dataframe is missing release year information. This could be omitted data or information  not recorded. We can also drop these NaN values"
   ]
  },
  {
   "cell_type": "code",
   "execution_count": 12,
   "metadata": {},
   "outputs": [],
   "source": [
    "# drop NaN rows in column\n",
    "games_data.dropna(subset = ['year_of_release'], inplace = True)"
   ]
  },
  {
   "cell_type": "code",
   "execution_count": 13,
   "metadata": {},
   "outputs": [],
   "source": [
    "# reset index\n",
    "games_data.reset_index(drop = True, inplace = True)"
   ]
  },
  {
   "cell_type": "code",
   "execution_count": 14,
   "metadata": {},
   "outputs": [
    {
     "data": {
      "text/plain": [
       "name                  0\n",
       "platform              0\n",
       "year_of_release       0\n",
       "genre                 0\n",
       "na_sales              0\n",
       "eu_sales              0\n",
       "jp_sales              0\n",
       "other_sales           0\n",
       "critic_score       8461\n",
       "user_score         6605\n",
       "rating             6676\n",
       "dtype: int64"
      ]
     },
     "execution_count": 14,
     "metadata": {},
     "output_type": "execute_result"
    }
   ],
   "source": [
    "# check result\n",
    "games_data.isna().sum()"
   ]
  },
  {
   "cell_type": "markdown",
   "metadata": {},
   "source": [
    "Missing values in the last 3 columns above account for over 40% of the dataframe and would need to be filled in order to not affect consequent analysis. These columns are for critic and user reviews as well as game ratings. It is possible no data was found for these columns, especialy the columns for reviews as the information was never populated given the possibility that individuals lacked the interest to review the games. As for rating, there could have been multiple ratings or a general rating for the games such that no information was thought to be needed."
   ]
  },
  {
   "cell_type": "markdown",
   "metadata": {},
   "source": [
    "To fill in the missing values of the `'critic_score'` column, let's take a closer look at the statistics of the column"
   ]
  },
  {
   "cell_type": "code",
   "execution_count": 15,
   "metadata": {},
   "outputs": [
    {
     "data": {
      "text/plain": [
       "count    7983.000000\n",
       "mean       68.994363\n",
       "std        13.920060\n",
       "min        13.000000\n",
       "25%        60.000000\n",
       "50%        71.000000\n",
       "75%        79.000000\n",
       "max        98.000000\n",
       "Name: critic_score, dtype: float64"
      ]
     },
     "execution_count": 15,
     "metadata": {},
     "output_type": "execute_result"
    }
   ],
   "source": [
    "# decribe critic score column\n",
    "games_data['critic_score'].describe()"
   ]
  },
  {
   "cell_type": "markdown",
   "metadata": {},
   "source": [
    "From what we see above, the values for mean and median are similar, but the standard deviation value is also high spectrum indicating the difference between the column values and the mean.\n",
    "\n",
    "To gain more insight, we can see the boxplot below for the column"
   ]
  },
  {
   "cell_type": "code",
   "execution_count": 16,
   "metadata": {},
   "outputs": [
    {
     "data": {
      "image/png": "[encoded data removed]",
      "text/plain": [
       "<Figure size 432x288 with 1 Axes>"
      ]
     },
     "metadata": {
      "needs_background": "light"
     },
     "output_type": "display_data"
    }
   ],
   "source": [
    "# boxplot of critic score column\n",
    "games_data.boxplot(column = 'critic_score')\n",
    "plt.show()"
   ]
  },
  {
   "cell_type": "markdown",
   "metadata": {},
   "source": [
    "There are obvious outliers on both the upper and lower whiskers in the plot, predominantly the latter, which would most definitely affect the mean value. It is therefore logical to replace the missing values in the column with the median instead."
   ]
  },
  {
   "cell_type": "markdown",
   "metadata": {},
   "source": [
    "We can fill missing values in `'critic_score'`column with its median value based on the genre of games. We want to avoid using game sales information so as not to inadvertently influence the data."
   ]
  },
  {
   "cell_type": "code",
   "execution_count": 17,
   "metadata": {},
   "outputs": [],
   "source": [
    "#function to fill missing values based on columns\n",
    "games_data['critic_score'] = games_data.groupby(['genre'])['critic_score'].transform(lambda x: x.fillna(x.median()))"
   ]
  },
  {
   "cell_type": "code",
   "execution_count": 18,
   "metadata": {},
   "outputs": [
    {
     "data": {
      "text/plain": [
       "name                  0\n",
       "platform              0\n",
       "year_of_release       0\n",
       "genre                 0\n",
       "na_sales              0\n",
       "eu_sales              0\n",
       "jp_sales              0\n",
       "other_sales           0\n",
       "critic_score          0\n",
       "user_score         6605\n",
       "rating             6676\n",
       "dtype: int64"
      ]
     },
     "execution_count": 18,
     "metadata": {},
     "output_type": "execute_result"
    }
   ],
   "source": [
    "# check if filled\n",
    "games_data.isna().sum()"
   ]
  },
  {
   "cell_type": "markdown",
   "metadata": {},
   "source": [
    "Now, we move on to the `'user_score'`column"
   ]
  },
  {
   "cell_type": "code",
   "execution_count": 19,
   "metadata": {},
   "outputs": [
    {
     "data": {
      "text/plain": [
       "array(['8', nan, '8.3', '8.5', '6.6', '8.4', '8.6', '7.7', '6.3', '7.4',\n",
       "       '8.2', '9', '7.9', '8.1', '8.7', '7.1', '3.4', '5.3', '4.8', '3.2',\n",
       "       '8.9', '6.4', '7.8', '7.5', '2.6', '7.2', '9.2', '7', '7.3', '4.3',\n",
       "       '7.6', '5.7', '5', '9.1', '6.5', 'tbd', '8.8', '6.9', '9.4', '6.8',\n",
       "       '6.1', '6.7', '5.4', '4', '4.9', '4.5', '9.3', '6.2', '4.2', '6',\n",
       "       '3.7', '4.1', '5.8', '5.6', '5.5', '4.4', '4.6', '5.9', '3.9',\n",
       "       '3.1', '2.9', '5.2', '3.3', '4.7', '5.1', '3.5', '2.5', '1.9', '3',\n",
       "       '2.7', '2.2', '2', '9.5', '2.1', '3.6', '2.8', '1.8', '3.8', '0',\n",
       "       '1.6', '9.6', '2.4', '1.7', '1.1', '0.3', '1.5', '0.7', '1.2',\n",
       "       '2.3', '0.5', '1.3', '0.2', '0.6', '1.4', '0.9', '1', '9.7'],\n",
       "      dtype=object)"
      ]
     },
     "execution_count": 19,
     "metadata": {},
     "output_type": "execute_result"
    }
   ],
   "source": [
    "# unique values in user_score\n",
    "games_data['user_score'].unique()"
   ]
  },
  {
   "cell_type": "markdown",
   "metadata": {},
   "source": [
    "As seen above, there are nan values as well as rows with 'tbd' populated. This implies that data for the column is to be expected but not available currently. We can also use 'tbd' to fill the missing values so that all that information is compiled under one label."
   ]
  },
  {
   "cell_type": "code",
   "execution_count": 20,
   "metadata": {},
   "outputs": [],
   "source": [
    "#function to fill missing values based on columns\n",
    "games_data['user_score'].fillna('tbd', inplace = True)"
   ]
  },
  {
   "cell_type": "code",
   "execution_count": 21,
   "metadata": {},
   "outputs": [
    {
     "data": {
      "text/plain": [
       "name                  0\n",
       "platform              0\n",
       "year_of_release       0\n",
       "genre                 0\n",
       "na_sales              0\n",
       "eu_sales              0\n",
       "jp_sales              0\n",
       "other_sales           0\n",
       "critic_score          0\n",
       "user_score            0\n",
       "rating             6676\n",
       "dtype: int64"
      ]
     },
     "execution_count": 21,
     "metadata": {},
     "output_type": "execute_result"
    }
   ],
   "source": [
    "# check if filled\n",
    "games_data.isna().sum()"
   ]
  },
  {
   "cell_type": "markdown",
   "metadata": {},
   "source": [
    "Lastly, we handle missing values in the `'rating'` column"
   ]
  },
  {
   "cell_type": "code",
   "execution_count": 22,
   "metadata": {},
   "outputs": [
    {
     "data": {
      "text/plain": [
       "array(['E', nan, 'M', 'T', 'E10+', 'K-A', 'AO', 'EC', 'RP'], dtype=object)"
      ]
     },
     "execution_count": 22,
     "metadata": {},
     "output_type": "execute_result"
    }
   ],
   "source": [
    "# unique values in column\n",
    "games_data['rating'].unique()"
   ]
  },
  {
   "cell_type": "markdown",
   "metadata": {},
   "source": [
    "Since ratings typically differ for indivdual games in each genre, we can fill missing values in `'rating'` with the placeholder 'unknown' so as not to influence the integrity of the data."
   ]
  },
  {
   "cell_type": "code",
   "execution_count": 23,
   "metadata": {},
   "outputs": [],
   "source": [
    "#function to fill missing values with a placeholder\n",
    "games_data['rating'] = games_data['rating'].fillna('unknown')"
   ]
  },
  {
   "cell_type": "code",
   "execution_count": 24,
   "metadata": {},
   "outputs": [
    {
     "data": {
      "text/plain": [
       "name               0\n",
       "platform           0\n",
       "year_of_release    0\n",
       "genre              0\n",
       "na_sales           0\n",
       "eu_sales           0\n",
       "jp_sales           0\n",
       "other_sales        0\n",
       "critic_score       0\n",
       "user_score         0\n",
       "rating             0\n",
       "dtype: int64"
      ]
     },
     "execution_count": 24,
     "metadata": {},
     "output_type": "execute_result"
    }
   ],
   "source": [
    "# check if filled\n",
    "games_data.isna().sum()"
   ]
  },
  {
   "cell_type": "markdown",
   "metadata": {},
   "source": [
    "### Correct Data Types"
   ]
  },
  {
   "cell_type": "markdown",
   "metadata": {},
   "source": [
    "There are a couple of columns that need their data types corrected. They are `'year_of_release'`,`'critic_score'` and `'user_score'` as seen below"
   ]
  },
  {
   "cell_type": "code",
   "execution_count": 25,
   "metadata": {},
   "outputs": [
    {
     "name": "stdout",
     "output_type": "stream",
     "text": [
      "<class 'pandas.core.frame.DataFrame'>\n",
      "RangeIndex: 16444 entries, 0 to 16443\n",
      "Data columns (total 11 columns):\n",
      " #   Column           Non-Null Count  Dtype  \n",
      "---  ------           --------------  -----  \n",
      " 0   name             16444 non-null  object \n",
      " 1   platform         16444 non-null  object \n",
      " 2   year_of_release  16444 non-null  float64\n",
      " 3   genre            16444 non-null  object \n",
      " 4   na_sales         16444 non-null  float64\n",
      " 5   eu_sales         16444 non-null  float64\n",
      " 6   jp_sales         16444 non-null  float64\n",
      " 7   other_sales      16444 non-null  float64\n",
      " 8   critic_score     16444 non-null  float64\n",
      " 9   user_score       16444 non-null  object \n",
      " 10  rating           16444 non-null  object \n",
      "dtypes: float64(6), object(5)\n",
      "memory usage: 1.4+ MB\n"
     ]
    }
   ],
   "source": [
    "# general info on dataset\n",
    "games_data.info()"
   ]
  },
  {
   "cell_type": "code",
   "execution_count": 26,
   "metadata": {},
   "outputs": [],
   "source": [
    "# change data type\n",
    "games_data['year_of_release'] = games_data['year_of_release'].astype('int64', errors = 'ignore')"
   ]
  },
  {
   "cell_type": "code",
   "execution_count": 27,
   "metadata": {},
   "outputs": [],
   "source": [
    "# change data type\n",
    "games_data['critic_score'] = games_data['critic_score'].astype('int64', errors = 'ignore')"
   ]
  },
  {
   "cell_type": "markdown",
   "metadata": {},
   "source": [
    "For `'user_score'`, rows woth values of 'tbd' still exist. In order to cprrect the data type and avoid confi=usion, we can replace 'tbd' with a value outside the threshold of 10, i.e. 11"
   ]
  },
  {
   "cell_type": "code",
   "execution_count": 28,
   "metadata": {},
   "outputs": [],
   "source": [
    "# replace tbd values with 11\n",
    "games_data['user_score'] = games_data['user_score'].replace('tbd', '11')"
   ]
  },
  {
   "cell_type": "code",
   "execution_count": 29,
   "metadata": {},
   "outputs": [],
   "source": [
    "#change data type\n",
    "games_data['user_score'] = games_data['user_score'].astype('float64', errors = 'ignore')"
   ]
  },
  {
   "cell_type": "code",
   "execution_count": 30,
   "metadata": {},
   "outputs": [
    {
     "name": "stdout",
     "output_type": "stream",
     "text": [
      "<class 'pandas.core.frame.DataFrame'>\n",
      "RangeIndex: 16444 entries, 0 to 16443\n",
      "Data columns (total 11 columns):\n",
      " #   Column           Non-Null Count  Dtype  \n",
      "---  ------           --------------  -----  \n",
      " 0   name             16444 non-null  object \n",
      " 1   platform         16444 non-null  object \n",
      " 2   year_of_release  16444 non-null  int64  \n",
      " 3   genre            16444 non-null  object \n",
      " 4   na_sales         16444 non-null  float64\n",
      " 5   eu_sales         16444 non-null  float64\n",
      " 6   jp_sales         16444 non-null  float64\n",
      " 7   other_sales      16444 non-null  float64\n",
      " 8   critic_score     16444 non-null  int64  \n",
      " 9   user_score       16444 non-null  float64\n",
      " 10  rating           16444 non-null  object \n",
      "dtypes: float64(5), int64(2), object(4)\n",
      "memory usage: 1.4+ MB\n"
     ]
    }
   ],
   "source": [
    "# check result\n",
    "games_data.info()"
   ]
  },
  {
   "cell_type": "markdown",
   "metadata": {},
   "source": [
    "### Enrich Data"
   ]
  },
  {
   "cell_type": "markdown",
   "metadata": {},
   "source": [
    "Let us create column `'total_sales'`to hold the total sales of all represented regions for each game."
   ]
  },
  {
   "cell_type": "code",
   "execution_count": 31,
   "metadata": {},
   "outputs": [],
   "source": [
    "# create total_sales column\n",
    "games_data['total_sales'] = games_data['na_sales'] + games_data['eu_sales'] + games_data['jp_sales'] + games_data['other_sales']"
   ]
  },
  {
   "cell_type": "markdown",
   "metadata": {},
   "source": [
    "## Data Exploration"
   ]
  },
  {
   "cell_type": "markdown",
   "metadata": {},
   "source": [
    "Now that the missing values have been filled, data types have been corrected and an additional column has been added for better analysis, let us analyze the dataframe values using charts and graphs."
   ]
  },
  {
   "cell_type": "markdown",
   "metadata": {},
   "source": [
    "### Plot Graphs"
   ]
  },
  {
   "cell_type": "markdown",
   "metadata": {},
   "source": [
    "We need to plot a histogram to show the distribution of games per year of release"
   ]
  },
  {
   "cell_type": "code",
   "execution_count": 32,
   "metadata": {},
   "outputs": [
    {
     "data": {
      "image/png": "[encoded data removed]",
      "text/plain": [
       "<Figure size 432x288 with 1 Axes>"
      ]
     },
     "metadata": {
      "needs_background": "light"
     },
     "output_type": "display_data"
    }
   ],
   "source": [
    "# distribution of games across release years\n",
    "games_data['year_of_release'].hist()\n",
    "plt.xlabel('years', fontsize = 12)\n",
    "plt.ylabel('games', fontsize = 12)\n",
    "plt.show()"
   ]
  },
  {
   "cell_type": "markdown",
   "metadata": {},
   "source": [
    "From the graph above, majority of the games represented in the data were released between 2010 and 2011, The least represent year is in the range of 1988 and 1990"
   ]
  },
  {
   "cell_type": "code",
   "execution_count": 33,
   "metadata": {},
   "outputs": [
    {
     "data": {
      "image/png": "[encoded data removed]",
      "text/plain": [
       "<Figure size 1080x432 with 1 Axes>"
      ]
     },
     "metadata": {
      "needs_background": "light"
     },
     "output_type": "display_data"
    }
   ],
   "source": [
    "# bar chart of total sales per platform\n",
    "grouped_data = games_data.groupby('platform')['total_sales'].sum().sort_values(ascending = False)\n",
    "grouped_data.plot(kind = 'bar', figsize = (15,6), fontsize = 12)\n",
    "plt.ylabel('total sales', fontsize = 12)\n",
    "plt.show()"
   ]
  },
  {
   "cell_type": "markdown",
   "metadata": {},
   "source": [
    "Above, we see the distribution of platforms by total sales, PS2 recording the highest value in sales and the platforms on the right end spectrum with the lowest or non-recorded total sales."
   ]
  },
  {
   "cell_type": "code",
   "execution_count": 34,
   "metadata": {},
   "outputs": [
    {
     "data": {
      "image/png": "[encoded data removed]",
      "text/plain": [
       "<Figure size 1080x432 with 1 Axes>"
      ]
     },
     "metadata": {
      "needs_background": "light"
     },
     "output_type": "display_data"
    }
   ],
   "source": [
    "# graph of platforms with over 100 Million USD in total sales\n",
    "groupa = games_data.pivot_table(index = 'platform', values = 'total_sales', aggfunc = 'sum')\n",
    "groupa.query(\"total_sales > 100\").plot(kind = 'bar', figsize = (15,6), legend = False)\n",
    "plt.ylabel('total sales', fontsize = 12)\n",
    "plt.show()"
   ]
  },
  {
   "cell_type": "markdown",
   "metadata": {},
   "source": [
    "Here we have a closer look at the platforms with the highest recorded total sales, above 100 million USD, Platform PS2 has the highest value of overall sales with over 1.2 billion USD"
   ]
  },
  {
   "cell_type": "markdown",
   "metadata": {},
   "source": [
    "Let's have an even closer look at the most profitable platforms"
   ]
  },
  {
   "cell_type": "code",
   "execution_count": 35,
   "metadata": {},
   "outputs": [
    {
     "data": {
      "text/plain": [
       "Index(['PS2', 'PS3', 'Wii', 'X360'], dtype='object', name='platform')"
      ]
     },
     "execution_count": 35,
     "metadata": {},
     "output_type": "execute_result"
    }
   ],
   "source": [
    "# most profitable platforms\n",
    "top_platforms = groupa.query(\"total_sales > 850\").index\n",
    "top_platforms"
   ]
  },
  {
   "cell_type": "markdown",
   "metadata": {},
   "source": [
    "Here, we have 4 most profitable platforms derived from our query of platforms with total sales exceeding 850 Million USD"
   ]
  },
  {
   "cell_type": "markdown",
   "metadata": {},
   "source": [
    "We can then filter `'games_data'` dataframe to feature rows with the most profitable platforms"
   ]
  },
  {
   "cell_type": "code",
   "execution_count": 36,
   "metadata": {},
   "outputs": [
    {
     "data": {
      "text/html": [
       "<div>\n",
       "<style scoped>\n",
       "    .dataframe tbody tr th:only-of-type {\n",
       "        vertical-align: middle;\n",
       "    }\n",
       "\n",
       "    .dataframe tbody tr th {\n",
       "        vertical-align: top;\n",
       "    }\n",
       "\n",
       "    .dataframe thead th {\n",
       "        text-align: right;\n",
       "    }\n",
       "</style>\n",
       "<table border=\"1\" class=\"dataframe\">\n",
       "  <thead>\n",
       "    <tr style=\"text-align: right;\">\n",
       "      <th></th>\n",
       "      <th>name</th>\n",
       "      <th>platform</th>\n",
       "      <th>year_of_release</th>\n",
       "      <th>genre</th>\n",
       "      <th>na_sales</th>\n",
       "      <th>eu_sales</th>\n",
       "      <th>jp_sales</th>\n",
       "      <th>other_sales</th>\n",
       "      <th>critic_score</th>\n",
       "      <th>user_score</th>\n",
       "      <th>rating</th>\n",
       "      <th>total_sales</th>\n",
       "    </tr>\n",
       "  </thead>\n",
       "  <tbody>\n",
       "    <tr>\n",
       "      <th>0</th>\n",
       "      <td>Wii Sports</td>\n",
       "      <td>Wii</td>\n",
       "      <td>2006</td>\n",
       "      <td>Sports</td>\n",
       "      <td>41.36</td>\n",
       "      <td>28.96</td>\n",
       "      <td>3.77</td>\n",
       "      <td>8.45</td>\n",
       "      <td>76</td>\n",
       "      <td>8.0</td>\n",
       "      <td>E</td>\n",
       "      <td>82.54</td>\n",
       "    </tr>\n",
       "    <tr>\n",
       "      <th>2</th>\n",
       "      <td>Mario Kart Wii</td>\n",
       "      <td>Wii</td>\n",
       "      <td>2008</td>\n",
       "      <td>Racing</td>\n",
       "      <td>15.68</td>\n",
       "      <td>12.76</td>\n",
       "      <td>3.79</td>\n",
       "      <td>3.29</td>\n",
       "      <td>82</td>\n",
       "      <td>8.3</td>\n",
       "      <td>E</td>\n",
       "      <td>35.52</td>\n",
       "    </tr>\n",
       "    <tr>\n",
       "      <th>3</th>\n",
       "      <td>Wii Sports Resort</td>\n",
       "      <td>Wii</td>\n",
       "      <td>2009</td>\n",
       "      <td>Sports</td>\n",
       "      <td>15.61</td>\n",
       "      <td>10.93</td>\n",
       "      <td>3.28</td>\n",
       "      <td>2.95</td>\n",
       "      <td>80</td>\n",
       "      <td>8.0</td>\n",
       "      <td>E</td>\n",
       "      <td>32.77</td>\n",
       "    </tr>\n",
       "    <tr>\n",
       "      <th>7</th>\n",
       "      <td>Wii Play</td>\n",
       "      <td>Wii</td>\n",
       "      <td>2006</td>\n",
       "      <td>Misc</td>\n",
       "      <td>13.96</td>\n",
       "      <td>9.18</td>\n",
       "      <td>2.93</td>\n",
       "      <td>2.84</td>\n",
       "      <td>58</td>\n",
       "      <td>6.6</td>\n",
       "      <td>E</td>\n",
       "      <td>28.91</td>\n",
       "    </tr>\n",
       "    <tr>\n",
       "      <th>8</th>\n",
       "      <td>New Super Mario Bros. Wii</td>\n",
       "      <td>Wii</td>\n",
       "      <td>2009</td>\n",
       "      <td>Platform</td>\n",
       "      <td>14.44</td>\n",
       "      <td>6.94</td>\n",
       "      <td>4.70</td>\n",
       "      <td>2.24</td>\n",
       "      <td>87</td>\n",
       "      <td>8.4</td>\n",
       "      <td>E</td>\n",
       "      <td>28.32</td>\n",
       "    </tr>\n",
       "    <tr>\n",
       "      <th>...</th>\n",
       "      <td>...</td>\n",
       "      <td>...</td>\n",
       "      <td>...</td>\n",
       "      <td>...</td>\n",
       "      <td>...</td>\n",
       "      <td>...</td>\n",
       "      <td>...</td>\n",
       "      <td>...</td>\n",
       "      <td>...</td>\n",
       "      <td>...</td>\n",
       "      <td>...</td>\n",
       "      <td>...</td>\n",
       "    </tr>\n",
       "    <tr>\n",
       "      <th>16418</th>\n",
       "      <td>Real Rode</td>\n",
       "      <td>PS2</td>\n",
       "      <td>2008</td>\n",
       "      <td>Adventure</td>\n",
       "      <td>0.00</td>\n",
       "      <td>0.00</td>\n",
       "      <td>0.01</td>\n",
       "      <td>0.00</td>\n",
       "      <td>66</td>\n",
       "      <td>11.0</td>\n",
       "      <td>unknown</td>\n",
       "      <td>0.01</td>\n",
       "    </tr>\n",
       "    <tr>\n",
       "      <th>16420</th>\n",
       "      <td>Dynasty Warriors: Eiketsuden</td>\n",
       "      <td>PS3</td>\n",
       "      <td>2016</td>\n",
       "      <td>Action</td>\n",
       "      <td>0.00</td>\n",
       "      <td>0.00</td>\n",
       "      <td>0.01</td>\n",
       "      <td>0.00</td>\n",
       "      <td>68</td>\n",
       "      <td>11.0</td>\n",
       "      <td>unknown</td>\n",
       "      <td>0.01</td>\n",
       "    </tr>\n",
       "    <tr>\n",
       "      <th>16438</th>\n",
       "      <td>SCORE International Baja 1000: The Official Game</td>\n",
       "      <td>PS2</td>\n",
       "      <td>2008</td>\n",
       "      <td>Racing</td>\n",
       "      <td>0.00</td>\n",
       "      <td>0.00</td>\n",
       "      <td>0.00</td>\n",
       "      <td>0.00</td>\n",
       "      <td>69</td>\n",
       "      <td>11.0</td>\n",
       "      <td>unknown</td>\n",
       "      <td>0.00</td>\n",
       "    </tr>\n",
       "    <tr>\n",
       "      <th>16439</th>\n",
       "      <td>Samurai Warriors: Sanada Maru</td>\n",
       "      <td>PS3</td>\n",
       "      <td>2016</td>\n",
       "      <td>Action</td>\n",
       "      <td>0.00</td>\n",
       "      <td>0.00</td>\n",
       "      <td>0.01</td>\n",
       "      <td>0.00</td>\n",
       "      <td>68</td>\n",
       "      <td>11.0</td>\n",
       "      <td>unknown</td>\n",
       "      <td>0.01</td>\n",
       "    </tr>\n",
       "    <tr>\n",
       "      <th>16440</th>\n",
       "      <td>LMA Manager 2007</td>\n",
       "      <td>X360</td>\n",
       "      <td>2006</td>\n",
       "      <td>Sports</td>\n",
       "      <td>0.00</td>\n",
       "      <td>0.01</td>\n",
       "      <td>0.00</td>\n",
       "      <td>0.00</td>\n",
       "      <td>75</td>\n",
       "      <td>11.0</td>\n",
       "      <td>unknown</td>\n",
       "      <td>0.01</td>\n",
       "    </tr>\n",
       "  </tbody>\n",
       "</table>\n",
       "<p>5951 rows × 12 columns</p>\n",
       "</div>"
      ],
      "text/plain": [
       "                                                   name platform  \\\n",
       "0                                            Wii Sports      Wii   \n",
       "2                                        Mario Kart Wii      Wii   \n",
       "3                                     Wii Sports Resort      Wii   \n",
       "7                                              Wii Play      Wii   \n",
       "8                             New Super Mario Bros. Wii      Wii   \n",
       "...                                                 ...      ...   \n",
       "16418                                         Real Rode      PS2   \n",
       "16420                      Dynasty Warriors: Eiketsuden      PS3   \n",
       "16438  SCORE International Baja 1000: The Official Game      PS2   \n",
       "16439                     Samurai Warriors: Sanada Maru      PS3   \n",
       "16440                                  LMA Manager 2007     X360   \n",
       "\n",
       "       year_of_release      genre  na_sales  eu_sales  jp_sales  other_sales  \\\n",
       "0                 2006     Sports     41.36     28.96      3.77         8.45   \n",
       "2                 2008     Racing     15.68     12.76      3.79         3.29   \n",
       "3                 2009     Sports     15.61     10.93      3.28         2.95   \n",
       "7                 2006       Misc     13.96      9.18      2.93         2.84   \n",
       "8                 2009   Platform     14.44      6.94      4.70         2.24   \n",
       "...                ...        ...       ...       ...       ...          ...   \n",
       "16418             2008  Adventure      0.00      0.00      0.01         0.00   \n",
       "16420             2016     Action      0.00      0.00      0.01         0.00   \n",
       "16438             2008     Racing      0.00      0.00      0.00         0.00   \n",
       "16439             2016     Action      0.00      0.00      0.01         0.00   \n",
       "16440             2006     Sports      0.00      0.01      0.00         0.00   \n",
       "\n",
       "       critic_score  user_score   rating  total_sales  \n",
       "0                76         8.0        E        82.54  \n",
       "2                82         8.3        E        35.52  \n",
       "3                80         8.0        E        32.77  \n",
       "7                58         6.6        E        28.91  \n",
       "8                87         8.4        E        28.32  \n",
       "...             ...         ...      ...          ...  \n",
       "16418            66        11.0  unknown         0.01  \n",
       "16420            68        11.0  unknown         0.01  \n",
       "16438            69        11.0  unknown         0.00  \n",
       "16439            68        11.0  unknown         0.01  \n",
       "16440            75        11.0  unknown         0.01  \n",
       "\n",
       "[5951 rows x 12 columns]"
      ]
     },
     "execution_count": 36,
     "metadata": {},
     "output_type": "execute_result"
    }
   ],
   "source": [
    "# filter top platforms from games_data dataframe\n",
    "filter_platform = games_data.query(\"platform in @top_platforms\")\n",
    "filter_platform"
   ]
  },
  {
   "cell_type": "code",
   "execution_count": 37,
   "metadata": {},
   "outputs": [
    {
     "data": {
      "image/png": "[encoded data removed]",
      "text/plain": [
       "<Figure size 2160x1800 with 1 Axes>"
      ]
     },
     "metadata": {
      "needs_background": "light"
     },
     "output_type": "display_data"
    }
   ],
   "source": [
    "# pivot table and graph showing total sales of platforms in their release year\n",
    "groupb = filter_platform.pivot_table(index = ['platform','year_of_release'], values = 'total_sales', aggfunc = 'sum')\n",
    "groupb.plot(kind = 'barh', figsize = (30,25), fontsize = 20, legend = False)\n",
    "plt.xlabel('Total Sales', fontsize = 30)\n",
    "plt.ylabel('Platform, Year of Release', fontsize = 30)\n",
    "plt.show()"
   ]
  },
  {
   "cell_type": "markdown",
   "metadata": {},
   "source": [
    "The chart above shows the total sales of each top platform per year. The total sales of PS2 games in 2004 is the highest value recorded worth over 220 million USD with Wii game sales in 2009 coming a close second. The individual graphs of each platform shows a normal distribution. The values look to be oon a steady rise with a peak in the middle year and a steady decline as the years go by.\n",
    "\n",
    "For Wii platform, 2006 was the first recorded year in the data for games released by the platform and had total sales close to 140 million USD. By 2016, there were close to no sales for the platform.\n",
    "\n",
    "Similarly with PS2 platform, the first recorded year, 2000, had total sales of about 40 million USD but by 2011, very few sales were recorded for the platform."
   ]
  },
  {
   "cell_type": "markdown",
   "metadata": {},
   "source": [
    "From what we can see, there is a 10-year period within which a platform grows on a steady incline, hits a peak and then a steady decline in sales till it hits 0 or close to at the end of range. New platforms typically appear 5 to 6 years from peak of an older platform as evidenced with data from the PS2 graph. "
   ]
  },
  {
   "cell_type": "code",
   "execution_count": 38,
   "metadata": {},
   "outputs": [],
   "source": [
    "# filter common years among platform for analysis\n",
    "filter_year = filter_platform.query(\"2006 <= year_of_release <= 2011\")"
   ]
  },
  {
   "cell_type": "markdown",
   "metadata": {},
   "source": [
    "Let us use years common to the represented top platforms to better analyze and understand the similarities or differences between them"
   ]
  },
  {
   "cell_type": "code",
   "execution_count": 39,
   "metadata": {},
   "outputs": [
    {
     "data": {
      "image/png": "[encoded data removed]",
      "text/plain": [
       "<Figure size 720x432 with 1 Axes>"
      ]
     },
     "metadata": {
      "needs_background": "light"
     },
     "output_type": "display_data"
    }
   ],
   "source": [
    "# graph of total sales of platforms per year recorded\n",
    "groupc = filter_year.pivot_table(index = 'year_of_release', columns = 'platform', values = 'total_sales', aggfunc = 'sum')\n",
    "groupc.plot(figsize = (10,6))\n",
    "plt.ylabel('total sales', fontsize = 12)\n",
    "plt.show()"
   ]
  },
  {
   "cell_type": "markdown",
   "metadata": {},
   "source": [
    "From the above figure, sales for X360 and PS3 start with a steady positive incline. By 2008, X360 sales reach a peak but then decline by 2009, the same pattern follows the proceeding years. \n",
    "\n",
    "For PS2, the graph shows a downward slope of sales from its peak in 2006 till 2011. \n",
    "\n",
    "Wii game sales had a much higher start at the top with close to 150 million USD in sales at 2006, it then reached a peak at 2009 before its steady decline till 2011."
   ]
  },
  {
   "cell_type": "markdown",
   "metadata": {},
   "source": [
    "### Plot Boxplot"
   ]
  },
  {
   "cell_type": "code",
   "execution_count": 40,
   "metadata": {},
   "outputs": [
    {
     "data": {
      "image/png": "[encoded data removed]",
      "text/plain": [
       "<Figure size 720x432 with 1 Axes>"
      ]
     },
     "metadata": {
      "needs_background": "light"
     },
     "output_type": "display_data"
    }
   ],
   "source": [
    "# boxplot of total sales per platforms\n",
    "filter_year.boxplot(column = 'total_sales',by = 'platform',figsize = (10, 6), showfliers = False)\n",
    "plt.ylim(-1, 3)\n",
    "plt.ylabel('total sales', fontsize = 12)\n",
    "plt.show()"
   ]
  },
  {
   "cell_type": "markdown",
   "metadata": {},
   "source": [
    "The boxplot above shows the statistics of total sales by platform. PS3 has a higher value for sales than any other platform represented."
   ]
  },
  {
   "cell_type": "code",
   "execution_count": 41,
   "metadata": {},
   "outputs": [
    {
     "data": {
      "image/png": "[encoded data removed]",
      "text/plain": [
       "<Figure size 432x288 with 1 Axes>"
      ]
     },
     "metadata": {
      "needs_background": "light"
     },
     "output_type": "display_data"
    }
   ],
   "source": [
    "# bar chart of total sales per platform\n",
    "filter_year.pivot_table(index = 'platform', values = 'total_sales').plot(kind = 'bar', legend = False)\n",
    "plt.ylabel('total sales', fontsize = 12)\n",
    "plt.show()"
   ]
  },
  {
   "cell_type": "markdown",
   "metadata": {},
   "source": [
    "In the chart above, the most profitable platform represented in the dataframe is PS3"
   ]
  },
  {
   "cell_type": "markdown",
   "metadata": {},
   "source": [
    "Let us filter by PS3 to gain more insight into data on the platform"
   ]
  },
  {
   "cell_type": "code",
   "execution_count": 42,
   "metadata": {},
   "outputs": [],
   "source": [
    "# filter by type and actual user scores\n",
    "PS3_type = filter_year[(filter_year['platform'] == 'PS3') &(filter_year['user_score'] < 11.0)]"
   ]
  },
  {
   "cell_type": "code",
   "execution_count": 43,
   "metadata": {},
   "outputs": [
    {
     "data": {
      "text/html": [
       "<div>\n",
       "<style scoped>\n",
       "    .dataframe tbody tr th:only-of-type {\n",
       "        vertical-align: middle;\n",
       "    }\n",
       "\n",
       "    .dataframe tbody tr th {\n",
       "        vertical-align: top;\n",
       "    }\n",
       "\n",
       "    .dataframe thead th {\n",
       "        text-align: right;\n",
       "    }\n",
       "</style>\n",
       "<table border=\"1\" class=\"dataframe\">\n",
       "  <thead>\n",
       "    <tr style=\"text-align: right;\">\n",
       "      <th></th>\n",
       "      <th>critic_score</th>\n",
       "      <th>user_score</th>\n",
       "      <th>total_sales</th>\n",
       "    </tr>\n",
       "  </thead>\n",
       "  <tbody>\n",
       "    <tr>\n",
       "      <th>critic_score</th>\n",
       "      <td>1.000000</td>\n",
       "      <td>0.658025</td>\n",
       "      <td>0.481596</td>\n",
       "    </tr>\n",
       "    <tr>\n",
       "      <th>user_score</th>\n",
       "      <td>0.658025</td>\n",
       "      <td>1.000000</td>\n",
       "      <td>0.219025</td>\n",
       "    </tr>\n",
       "    <tr>\n",
       "      <th>total_sales</th>\n",
       "      <td>0.481596</td>\n",
       "      <td>0.219025</td>\n",
       "      <td>1.000000</td>\n",
       "    </tr>\n",
       "  </tbody>\n",
       "</table>\n",
       "</div>"
      ],
      "text/plain": [
       "              critic_score  user_score  total_sales\n",
       "critic_score      1.000000    0.658025     0.481596\n",
       "user_score        0.658025    1.000000     0.219025\n",
       "total_sales       0.481596    0.219025     1.000000"
      ]
     },
     "execution_count": 43,
     "metadata": {},
     "output_type": "execute_result"
    }
   ],
   "source": [
    "# correlation matrix for SUV type against columns\n",
    "PS3_type[['critic_score', 'user_score','total_sales']].corr()"
   ]
  },
  {
   "cell_type": "markdown",
   "metadata": {},
   "source": [
    "From the matrix above, critic score and user score both positively affect total sales, more so critic scores. As the ratings increase, the sales of games increase in return"
   ]
  },
  {
   "cell_type": "markdown",
   "metadata": {},
   "source": [
    "### Plot Scatterplot Graphs"
   ]
  },
  {
   "cell_type": "code",
   "execution_count": 44,
   "metadata": {},
   "outputs": [
    {
     "data": {
      "image/png": "[encoded data removed]",
      "text/plain": [
       "<Figure size 1080x720 with 9 Axes>"
      ]
     },
     "metadata": {
      "needs_background": "light"
     },
     "output_type": "display_data"
    }
   ],
   "source": [
    "# scatterplot matrix for SUv type\n",
    "pd.plotting.scatter_matrix(PS3_type[['critic_score', 'user_score','total_sales']], figsize = (15, 10))\n",
    "plt.show()"
   ]
  },
  {
   "cell_type": "code",
   "execution_count": 45,
   "metadata": {},
   "outputs": [
    {
     "data": {
      "image/png": "[encoded data removed]",
      "text/plain": [
       "<Figure size 1440x432 with 1 Axes>"
      ]
     },
     "metadata": {
      "needs_background": "light"
     },
     "output_type": "display_data"
    }
   ],
   "source": [
    "# graph of PS3 sales versus other platform sales for common games\n",
    "pop_games = filter_year.query(\"name in @PS3_type.name\")\n",
    "ax = PS3_type.plot(x = 'name', y = 'total_sales', figsize  = (20,6), label = 'PS3')\n",
    "pop_games.query(\"'PS3' not in platform\").plot(x = 'name', y = 'total_sales', figsize  = (20,6), fontsize = 15,label = 'Non-PS3',ax = ax)\n",
    "plt.xticks(rotation = 45)\n",
    "plt.xlabel('Games', fontsize = 16)\n",
    "plt.ylabel('Total sales', fontsize = 16)\n",
    "plt.legend(fontsize = 16)\n",
    "plt.show()"
   ]
  },
  {
   "cell_type": "markdown",
   "metadata": {},
   "source": [
    "Sales for 'Call of Duty: Modern Warfare 3' is higher than sales for other games as shown above. The plots show similar sales between PS3 and non-PS3 games."
   ]
  },
  {
   "cell_type": "code",
   "execution_count": 46,
   "metadata": {},
   "outputs": [
    {
     "data": {
      "text/plain": [
       "Action          753\n",
       "Sports          690\n",
       "Misc            577\n",
       "Shooter         338\n",
       "Racing          284\n",
       "Adventure       282\n",
       "Role-Playing    216\n",
       "Fighting        195\n",
       "Simulation      159\n",
       "Platform        122\n",
       "Strategy         90\n",
       "Puzzle           66\n",
       "Name: genre, dtype: int64"
      ]
     },
     "execution_count": 46,
     "metadata": {},
     "output_type": "execute_result"
    }
   ],
   "source": [
    "# count of games per genre\n",
    "filter_year['genre'].value_counts()"
   ]
  },
  {
   "cell_type": "markdown",
   "metadata": {},
   "source": [
    "Action games are represented the most in the dataset with Puzzle games as the least represented"
   ]
  },
  {
   "cell_type": "code",
   "execution_count": 47,
   "metadata": {},
   "outputs": [
    {
     "data": {
      "image/png": "[encoded data removed]",
      "text/plain": [
       "<Figure size 1080x432 with 1 Axes>"
      ]
     },
     "metadata": {
      "needs_background": "light"
     },
     "output_type": "display_data"
    }
   ],
   "source": [
    "# sales per genre\n",
    "sales_by_genre = filter_year.pivot_table(index = 'genre', values = 'total_sales', aggfunc = 'sum')\n",
    "sales_by_genre.plot(kind = 'bar', figsize = (15,6), fontsize = 12, legend = False)\n",
    "plt.ylabel('total sales', fontsize = 14)\n",
    "plt.xlabel('genre',fontsize = 14)\n",
    "plt.show()"
   ]
  },
  {
   "cell_type": "markdown",
   "metadata": {},
   "source": [
    "As shown above, Sports games are the most profitable genre as opposed to Puzzle and Strategy games. A close second is sales of games in the Action genre"
   ]
  },
  {
   "cell_type": "markdown",
   "metadata": {},
   "source": [
    "### User profiles for regions"
   ]
  },
  {
   "cell_type": "markdown",
   "metadata": {},
   "source": [
    "User profile for games with high sales in NA region"
   ]
  },
  {
   "cell_type": "code",
   "execution_count": 48,
   "metadata": {},
   "outputs": [
    {
     "data": {
      "text/html": [
       "<div>\n",
       "<style scoped>\n",
       "    .dataframe tbody tr th:only-of-type {\n",
       "        vertical-align: middle;\n",
       "    }\n",
       "\n",
       "    .dataframe tbody tr th {\n",
       "        vertical-align: top;\n",
       "    }\n",
       "\n",
       "    .dataframe thead th {\n",
       "        text-align: right;\n",
       "    }\n",
       "</style>\n",
       "<table border=\"1\" class=\"dataframe\">\n",
       "  <thead>\n",
       "    <tr style=\"text-align: right;\">\n",
       "      <th></th>\n",
       "      <th>year_of_release</th>\n",
       "      <th>na_sales</th>\n",
       "      <th>eu_sales</th>\n",
       "      <th>jp_sales</th>\n",
       "      <th>other_sales</th>\n",
       "      <th>critic_score</th>\n",
       "      <th>user_score</th>\n",
       "      <th>total_sales</th>\n",
       "    </tr>\n",
       "  </thead>\n",
       "  <tbody>\n",
       "    <tr>\n",
       "      <th>count</th>\n",
       "      <td>16444.000000</td>\n",
       "      <td>16444.000000</td>\n",
       "      <td>16444.000000</td>\n",
       "      <td>16444.000000</td>\n",
       "      <td>16444.000000</td>\n",
       "      <td>16444.000000</td>\n",
       "      <td>16444.000000</td>\n",
       "      <td>16444.000000</td>\n",
       "    </tr>\n",
       "    <tr>\n",
       "      <th>mean</th>\n",
       "      <td>2006.486256</td>\n",
       "      <td>0.264012</td>\n",
       "      <td>0.145930</td>\n",
       "      <td>0.078487</td>\n",
       "      <td>0.047594</td>\n",
       "      <td>69.689005</td>\n",
       "      <td>9.241961</td>\n",
       "      <td>0.536023</td>\n",
       "    </tr>\n",
       "    <tr>\n",
       "      <th>std</th>\n",
       "      <td>5.875525</td>\n",
       "      <td>0.818378</td>\n",
       "      <td>0.506716</td>\n",
       "      <td>0.311100</td>\n",
       "      <td>0.188005</td>\n",
       "      <td>9.943083</td>\n",
       "      <td>2.177133</td>\n",
       "      <td>1.558786</td>\n",
       "    </tr>\n",
       "    <tr>\n",
       "      <th>min</th>\n",
       "      <td>1980.000000</td>\n",
       "      <td>0.000000</td>\n",
       "      <td>0.000000</td>\n",
       "      <td>0.000000</td>\n",
       "      <td>0.000000</td>\n",
       "      <td>13.000000</td>\n",
       "      <td>0.000000</td>\n",
       "      <td>0.000000</td>\n",
       "    </tr>\n",
       "    <tr>\n",
       "      <th>25%</th>\n",
       "      <td>2003.000000</td>\n",
       "      <td>0.000000</td>\n",
       "      <td>0.000000</td>\n",
       "      <td>0.000000</td>\n",
       "      <td>0.000000</td>\n",
       "      <td>67.000000</td>\n",
       "      <td>7.600000</td>\n",
       "      <td>0.060000</td>\n",
       "    </tr>\n",
       "    <tr>\n",
       "      <th>50%</th>\n",
       "      <td>2007.000000</td>\n",
       "      <td>0.080000</td>\n",
       "      <td>0.020000</td>\n",
       "      <td>0.000000</td>\n",
       "      <td>0.010000</td>\n",
       "      <td>70.000000</td>\n",
       "      <td>11.000000</td>\n",
       "      <td>0.170000</td>\n",
       "    </tr>\n",
       "    <tr>\n",
       "      <th>75%</th>\n",
       "      <td>2010.000000</td>\n",
       "      <td>0.240000</td>\n",
       "      <td>0.110000</td>\n",
       "      <td>0.040000</td>\n",
       "      <td>0.030000</td>\n",
       "      <td>75.000000</td>\n",
       "      <td>11.000000</td>\n",
       "      <td>0.470000</td>\n",
       "    </tr>\n",
       "    <tr>\n",
       "      <th>max</th>\n",
       "      <td>2016.000000</td>\n",
       "      <td>41.360000</td>\n",
       "      <td>28.960000</td>\n",
       "      <td>10.220000</td>\n",
       "      <td>10.570000</td>\n",
       "      <td>98.000000</td>\n",
       "      <td>11.000000</td>\n",
       "      <td>82.540000</td>\n",
       "    </tr>\n",
       "  </tbody>\n",
       "</table>\n",
       "</div>"
      ],
      "text/plain": [
       "       year_of_release      na_sales      eu_sales      jp_sales  \\\n",
       "count     16444.000000  16444.000000  16444.000000  16444.000000   \n",
       "mean       2006.486256      0.264012      0.145930      0.078487   \n",
       "std           5.875525      0.818378      0.506716      0.311100   \n",
       "min        1980.000000      0.000000      0.000000      0.000000   \n",
       "25%        2003.000000      0.000000      0.000000      0.000000   \n",
       "50%        2007.000000      0.080000      0.020000      0.000000   \n",
       "75%        2010.000000      0.240000      0.110000      0.040000   \n",
       "max        2016.000000     41.360000     28.960000     10.220000   \n",
       "\n",
       "        other_sales  critic_score    user_score   total_sales  \n",
       "count  16444.000000  16444.000000  16444.000000  16444.000000  \n",
       "mean       0.047594     69.689005      9.241961      0.536023  \n",
       "std        0.188005      9.943083      2.177133      1.558786  \n",
       "min        0.000000     13.000000      0.000000      0.000000  \n",
       "25%        0.000000     67.000000      7.600000      0.060000  \n",
       "50%        0.010000     70.000000     11.000000      0.170000  \n",
       "75%        0.030000     75.000000     11.000000      0.470000  \n",
       "max       10.570000     98.000000     11.000000     82.540000  "
      ]
     },
     "execution_count": 48,
     "metadata": {},
     "output_type": "execute_result"
    }
   ],
   "source": [
    "# statistics of dataframe\n",
    "games_data.describe()"
   ]
  },
  {
   "cell_type": "markdown",
   "metadata": {},
   "source": [
    "Let's us filter region data based on game sales of over 1 million USD"
   ]
  },
  {
   "cell_type": "code",
   "execution_count": 49,
   "metadata": {},
   "outputs": [
    {
     "data": {
      "text/plain": [
       "893"
      ]
     },
     "execution_count": 49,
     "metadata": {},
     "output_type": "execute_result"
    }
   ],
   "source": [
    "# high sales in NA region\n",
    "NA_region = games_data.query(\"na_sales > 1\")\n",
    "len(NA_region)"
   ]
  },
  {
   "cell_type": "code",
   "execution_count": 50,
   "metadata": {},
   "outputs": [
    {
     "data": {
      "text/plain": [
       "PS2     144\n",
       "X360    129\n",
       "PS       87\n",
       "PS3      84\n",
       "Wii      75\n",
       "Name: platform, dtype: int64"
      ]
     },
     "execution_count": 50,
     "metadata": {},
     "output_type": "execute_result"
    }
   ],
   "source": [
    "# top platforms in region\n",
    "NA_region['platform'].value_counts().head()"
   ]
  },
  {
   "cell_type": "markdown",
   "metadata": {},
   "source": [
    "These are the platforms with the most sales in the NA region"
   ]
  },
  {
   "cell_type": "markdown",
   "metadata": {},
   "source": [
    "User profile for games with high sales in EU region"
   ]
  },
  {
   "cell_type": "code",
   "execution_count": 51,
   "metadata": {},
   "outputs": [
    {
     "data": {
      "text/plain": [
       "468"
      ]
     },
     "execution_count": 51,
     "metadata": {},
     "output_type": "execute_result"
    }
   ],
   "source": [
    "# high sales in EU region\n",
    "EU_region = games_data.query(\"eu_sales > 1\")\n",
    "len(EU_region)"
   ]
  },
  {
   "cell_type": "code",
   "execution_count": 52,
   "metadata": {},
   "outputs": [
    {
     "data": {
      "text/plain": [
       "PS2     78\n",
       "PS3     68\n",
       "X360    51\n",
       "PS      50\n",
       "Wii     42\n",
       "Name: platform, dtype: int64"
      ]
     },
     "execution_count": 52,
     "metadata": {},
     "output_type": "execute_result"
    }
   ],
   "source": [
    "# top platform in region\n",
    "EU_region['platform'].value_counts().head()"
   ]
  },
  {
   "cell_type": "markdown",
   "metadata": {},
   "source": [
    "As seen from the NA region, the top platforms are the same with PS2 sales higher than other platforms"
   ]
  },
  {
   "cell_type": "markdown",
   "metadata": {},
   "source": [
    "User profile for games with high sales in JP region"
   ]
  },
  {
   "cell_type": "code",
   "execution_count": 53,
   "metadata": {},
   "outputs": [
    {
     "data": {
      "text/plain": [
       "239"
      ]
     },
     "execution_count": 53,
     "metadata": {},
     "output_type": "execute_result"
    }
   ],
   "source": [
    "# high sales in JP region\n",
    "JP_region = games_data.query(\"jp_sales > 1\")\n",
    "len(JP_region)"
   ]
  },
  {
   "cell_type": "code",
   "execution_count": 54,
   "metadata": {},
   "outputs": [
    {
     "data": {
      "text/plain": [
       "NES     39\n",
       "DS      37\n",
       "PS      29\n",
       "SNES    29\n",
       "GB      24\n",
       "Name: platform, dtype: int64"
      ]
     },
     "execution_count": 54,
     "metadata": {},
     "output_type": "execute_result"
    }
   ],
   "source": [
    "# top platforms in region\n",
    "JP_region['platform'].value_counts().head()"
   ]
  },
  {
   "cell_type": "markdown",
   "metadata": {},
   "source": [
    "Unlike NA and EU regions, the top platforms in the JP region are different with the exception of PS platform"
   ]
  },
  {
   "cell_type": "markdown",
   "metadata": {},
   "source": [
    "Below is a graph showing the distribution of sales of the different regions"
   ]
  },
  {
   "cell_type": "code",
   "execution_count": 55,
   "metadata": {},
   "outputs": [
    {
     "data": {
      "image/png": "[encoded data removed]",
      "text/plain": [
       "<Figure size 720x432 with 1 Axes>"
      ]
     },
     "metadata": {
      "needs_background": "light"
     },
     "output_type": "display_data"
    }
   ],
   "source": [
    "# graph of sales in the regions\n",
    "NA_region['na_sales'].plot(figsize = (10,6))\n",
    "EU_region['eu_sales'].plot()\n",
    "JP_region['jp_sales'].plot()\n",
    "plt.xlim(-5, 100)\n",
    "plt.legend(['NA region', 'EU region', 'JP region'], fontsize = 12)\n",
    "plt.xlabel('region sales')\n",
    "plt.ylabel('total sales')\n",
    "plt.show()"
   ]
  },
  {
   "cell_type": "markdown",
   "metadata": {},
   "source": [
    "Per the graph, sales in the NA region are higher than sales in the JP region with sales in the EU region hovering in the middle of the two"
   ]
  },
  {
   "cell_type": "markdown",
   "metadata": {},
   "source": [
    "Moving on to analyze the top selling game genres in each region"
   ]
  },
  {
   "cell_type": "code",
   "execution_count": 56,
   "metadata": {},
   "outputs": [
    {
     "data": {
      "text/plain": [
       "genre\n",
       "Action          370.58\n",
       "Shooter         359.87\n",
       "Sports          289.02\n",
       "Platform        284.73\n",
       "Misc            181.41\n",
       "Role-Playing    172.67\n",
       "Racing          164.51\n",
       "Fighting        101.51\n",
       "Puzzle           61.47\n",
       "Simulation       61.40\n",
       "Strategy         26.72\n",
       "Adventure        24.98\n",
       "Name: na_sales, dtype: float64"
      ]
     },
     "execution_count": 56,
     "metadata": {},
     "output_type": "execute_result"
    }
   ],
   "source": [
    "# top selling game genres in NA region\n",
    "NA_region.groupby('genre')['na_sales'].sum().sort_values(ascending = False)"
   ]
  },
  {
   "cell_type": "markdown",
   "metadata": {},
   "source": [
    "In the NA region, the top selling game genre is the Action genre and the least is the Adventure genre"
   ]
  },
  {
   "cell_type": "code",
   "execution_count": 57,
   "metadata": {},
   "outputs": [
    {
     "data": {
      "text/plain": [
       "genre\n",
       "Action          191.10\n",
       "Sports          174.85\n",
       "Shooter         148.61\n",
       "Racing           96.09\n",
       "Platform         94.94\n",
       "Role-Playing     94.19\n",
       "Misc             87.77\n",
       "Simulation       48.17\n",
       "Fighting         26.42\n",
       "Puzzle           18.19\n",
       "Adventure        13.73\n",
       "Strategy         11.69\n",
       "Name: eu_sales, dtype: float64"
      ]
     },
     "execution_count": 57,
     "metadata": {},
     "output_type": "execute_result"
    }
   ],
   "source": [
    "# top selling game genres in EU region\n",
    "EU_region.groupby('genre')['eu_sales'].sum().sort_values(ascending = False)"
   ]
  },
  {
   "cell_type": "markdown",
   "metadata": {},
   "source": [
    "In the EU region, the top selling game genre is also the Action genre with the Sports genre as the second most profitable. The least being the Strategy genre"
   ]
  },
  {
   "cell_type": "code",
   "execution_count": 58,
   "metadata": {},
   "outputs": [
    {
     "data": {
      "text/plain": [
       "genre\n",
       "Role-Playing    186.79\n",
       "Platform         77.28\n",
       "Sports           43.21\n",
       "Misc             37.98\n",
       "Action           29.48\n",
       "Racing           28.22\n",
       "Fighting         23.89\n",
       "Simulation       23.62\n",
       "Puzzle           23.42\n",
       "Strategy          6.59\n",
       "Adventure         5.36\n",
       "Shooter           3.93\n",
       "Name: jp_sales, dtype: float64"
      ]
     },
     "execution_count": 58,
     "metadata": {},
     "output_type": "execute_result"
    }
   ],
   "source": [
    "# top selling game genres in JP region\n",
    "JP_region.groupby('genre')['jp_sales'].sum().sort_values(ascending = False)"
   ]
  },
  {
   "cell_type": "markdown",
   "metadata": {},
   "source": [
    "In the JP region, the top selling game genre is the Role-Playing genre. As opposed to the data for both NA and EU regions, games in the Shooter genre are the least profitable in the JP region"
   ]
  },
  {
   "cell_type": "markdown",
   "metadata": {},
   "source": [
    "Statistics of the dataset"
   ]
  },
  {
   "cell_type": "code",
   "execution_count": 59,
   "metadata": {},
   "outputs": [
    {
     "data": {
      "text/html": [
       "<div>\n",
       "<style scoped>\n",
       "    .dataframe tbody tr th:only-of-type {\n",
       "        vertical-align: middle;\n",
       "    }\n",
       "\n",
       "    .dataframe tbody tr th {\n",
       "        vertical-align: top;\n",
       "    }\n",
       "\n",
       "    .dataframe thead th {\n",
       "        text-align: right;\n",
       "    }\n",
       "</style>\n",
       "<table border=\"1\" class=\"dataframe\">\n",
       "  <thead>\n",
       "    <tr style=\"text-align: right;\">\n",
       "      <th></th>\n",
       "      <th>mean</th>\n",
       "      <th>std</th>\n",
       "      <th>var</th>\n",
       "    </tr>\n",
       "    <tr>\n",
       "      <th>platform</th>\n",
       "      <th></th>\n",
       "      <th></th>\n",
       "      <th></th>\n",
       "    </tr>\n",
       "  </thead>\n",
       "  <tbody>\n",
       "    <tr>\n",
       "      <th>2600</th>\n",
       "      <td>0.745517</td>\n",
       "      <td>0.956160</td>\n",
       "      <td>0.914242</td>\n",
       "    </tr>\n",
       "    <tr>\n",
       "      <th>3DO</th>\n",
       "      <td>0.033333</td>\n",
       "      <td>0.023094</td>\n",
       "      <td>0.000533</td>\n",
       "    </tr>\n",
       "    <tr>\n",
       "      <th>3DS</th>\n",
       "      <td>0.503535</td>\n",
       "      <td>1.441271</td>\n",
       "      <td>2.077262</td>\n",
       "    </tr>\n",
       "    <tr>\n",
       "      <th>DC</th>\n",
       "      <td>0.306731</td>\n",
       "      <td>0.468660</td>\n",
       "      <td>0.219642</td>\n",
       "    </tr>\n",
       "    <tr>\n",
       "      <th>DS</th>\n",
       "      <td>0.378491</td>\n",
       "      <td>1.436042</td>\n",
       "      <td>2.062215</td>\n",
       "    </tr>\n",
       "    <tr>\n",
       "      <th>GB</th>\n",
       "      <td>2.622990</td>\n",
       "      <td>5.390925</td>\n",
       "      <td>29.062067</td>\n",
       "    </tr>\n",
       "    <tr>\n",
       "      <th>GBA</th>\n",
       "      <td>0.385795</td>\n",
       "      <td>0.899654</td>\n",
       "      <td>0.809377</td>\n",
       "    </tr>\n",
       "    <tr>\n",
       "      <th>GC</th>\n",
       "      <td>0.362970</td>\n",
       "      <td>0.693974</td>\n",
       "      <td>0.481601</td>\n",
       "    </tr>\n",
       "    <tr>\n",
       "      <th>GEN</th>\n",
       "      <td>1.050000</td>\n",
       "      <td>1.490041</td>\n",
       "      <td>2.220223</td>\n",
       "    </tr>\n",
       "    <tr>\n",
       "      <th>GG</th>\n",
       "      <td>0.040000</td>\n",
       "      <td>NaN</td>\n",
       "      <td>NaN</td>\n",
       "    </tr>\n",
       "    <tr>\n",
       "      <th>N64</th>\n",
       "      <td>0.689905</td>\n",
       "      <td>1.322189</td>\n",
       "      <td>1.748184</td>\n",
       "    </tr>\n",
       "    <tr>\n",
       "      <th>NES</th>\n",
       "      <td>2.561735</td>\n",
       "      <td>5.108012</td>\n",
       "      <td>26.091786</td>\n",
       "    </tr>\n",
       "    <tr>\n",
       "      <th>NG</th>\n",
       "      <td>0.120000</td>\n",
       "      <td>0.082241</td>\n",
       "      <td>0.006764</td>\n",
       "    </tr>\n",
       "    <tr>\n",
       "      <th>PC</th>\n",
       "      <td>0.267252</td>\n",
       "      <td>0.679745</td>\n",
       "      <td>0.462053</td>\n",
       "    </tr>\n",
       "    <tr>\n",
       "      <th>PCFX</th>\n",
       "      <td>0.030000</td>\n",
       "      <td>NaN</td>\n",
       "      <td>NaN</td>\n",
       "    </tr>\n",
       "    <tr>\n",
       "      <th>PS</th>\n",
       "      <td>0.611412</td>\n",
       "      <td>1.056807</td>\n",
       "      <td>1.116841</td>\n",
       "    </tr>\n",
       "    <tr>\n",
       "      <th>PS2</th>\n",
       "      <td>0.579953</td>\n",
       "      <td>1.138461</td>\n",
       "      <td>1.296094</td>\n",
       "    </tr>\n",
       "    <tr>\n",
       "      <th>PS3</th>\n",
       "      <td>0.713124</td>\n",
       "      <td>1.403065</td>\n",
       "      <td>1.968590</td>\n",
       "    </tr>\n",
       "    <tr>\n",
       "      <th>PS4</th>\n",
       "      <td>0.801378</td>\n",
       "      <td>1.609456</td>\n",
       "      <td>2.590350</td>\n",
       "    </tr>\n",
       "    <tr>\n",
       "      <th>PSP</th>\n",
       "      <td>0.242691</td>\n",
       "      <td>0.522019</td>\n",
       "      <td>0.272504</td>\n",
       "    </tr>\n",
       "    <tr>\n",
       "      <th>PSV</th>\n",
       "      <td>0.125431</td>\n",
       "      <td>0.212341</td>\n",
       "      <td>0.045089</td>\n",
       "    </tr>\n",
       "    <tr>\n",
       "      <th>SAT</th>\n",
       "      <td>0.194162</td>\n",
       "      <td>0.218092</td>\n",
       "      <td>0.047564</td>\n",
       "    </tr>\n",
       "    <tr>\n",
       "      <th>SCD</th>\n",
       "      <td>0.310000</td>\n",
       "      <td>0.584055</td>\n",
       "      <td>0.341120</td>\n",
       "    </tr>\n",
       "    <tr>\n",
       "      <th>SNES</th>\n",
       "      <td>0.836987</td>\n",
       "      <td>1.869469</td>\n",
       "      <td>3.494913</td>\n",
       "    </tr>\n",
       "    <tr>\n",
       "      <th>TG16</th>\n",
       "      <td>0.080000</td>\n",
       "      <td>0.084853</td>\n",
       "      <td>0.007200</td>\n",
       "    </tr>\n",
       "    <tr>\n",
       "      <th>WS</th>\n",
       "      <td>0.236667</td>\n",
       "      <td>0.159457</td>\n",
       "      <td>0.025427</td>\n",
       "    </tr>\n",
       "    <tr>\n",
       "      <th>Wii</th>\n",
       "      <td>0.692986</td>\n",
       "      <td>3.165022</td>\n",
       "      <td>10.017362</td>\n",
       "    </tr>\n",
       "    <tr>\n",
       "      <th>WiiU</th>\n",
       "      <td>0.559116</td>\n",
       "      <td>1.058836</td>\n",
       "      <td>1.121133</td>\n",
       "    </tr>\n",
       "    <tr>\n",
       "      <th>X360</th>\n",
       "      <td>0.780227</td>\n",
       "      <td>1.632122</td>\n",
       "      <td>2.663823</td>\n",
       "    </tr>\n",
       "    <tr>\n",
       "      <th>XB</th>\n",
       "      <td>0.313288</td>\n",
       "      <td>0.539309</td>\n",
       "      <td>0.290854</td>\n",
       "    </tr>\n",
       "    <tr>\n",
       "      <th>XOne</th>\n",
       "      <td>0.645020</td>\n",
       "      <td>1.036139</td>\n",
       "      <td>1.073584</td>\n",
       "    </tr>\n",
       "  </tbody>\n",
       "</table>\n",
       "</div>"
      ],
      "text/plain": [
       "              mean       std        var\n",
       "platform                               \n",
       "2600      0.745517  0.956160   0.914242\n",
       "3DO       0.033333  0.023094   0.000533\n",
       "3DS       0.503535  1.441271   2.077262\n",
       "DC        0.306731  0.468660   0.219642\n",
       "DS        0.378491  1.436042   2.062215\n",
       "GB        2.622990  5.390925  29.062067\n",
       "GBA       0.385795  0.899654   0.809377\n",
       "GC        0.362970  0.693974   0.481601\n",
       "GEN       1.050000  1.490041   2.220223\n",
       "GG        0.040000       NaN        NaN\n",
       "N64       0.689905  1.322189   1.748184\n",
       "NES       2.561735  5.108012  26.091786\n",
       "NG        0.120000  0.082241   0.006764\n",
       "PC        0.267252  0.679745   0.462053\n",
       "PCFX      0.030000       NaN        NaN\n",
       "PS        0.611412  1.056807   1.116841\n",
       "PS2       0.579953  1.138461   1.296094\n",
       "PS3       0.713124  1.403065   1.968590\n",
       "PS4       0.801378  1.609456   2.590350\n",
       "PSP       0.242691  0.522019   0.272504\n",
       "PSV       0.125431  0.212341   0.045089\n",
       "SAT       0.194162  0.218092   0.047564\n",
       "SCD       0.310000  0.584055   0.341120\n",
       "SNES      0.836987  1.869469   3.494913\n",
       "TG16      0.080000  0.084853   0.007200\n",
       "WS        0.236667  0.159457   0.025427\n",
       "Wii       0.692986  3.165022  10.017362\n",
       "WiiU      0.559116  1.058836   1.121133\n",
       "X360      0.780227  1.632122   2.663823\n",
       "XB        0.313288  0.539309   0.290854\n",
       "XOne      0.645020  1.036139   1.073584"
      ]
     },
     "execution_count": 59,
     "metadata": {},
     "output_type": "execute_result"
    }
   ],
   "source": [
    "# statistics for dataframe\n",
    "games_data.pivot_table(index = 'platform', values = 'total_sales', aggfunc = ('mean','var','std'))"
   ]
  },
  {
   "cell_type": "markdown",
   "metadata": {},
   "source": [
    "Now, we can determine if ESRB ratings affect sales in individual regions"
   ]
  },
  {
   "cell_type": "code",
   "execution_count": 60,
   "metadata": {},
   "outputs": [
    {
     "data": {
      "text/plain": [
       "rating\n",
       "unknown    672.92\n",
       "E          584.07\n",
       "M          461.70\n",
       "T          274.09\n",
       "E10+       102.53\n",
       "K-A          2.30\n",
       "AO           1.26\n",
       "Name: na_sales, dtype: float64"
      ]
     },
     "execution_count": 60,
     "metadata": {},
     "output_type": "execute_result"
    }
   ],
   "source": [
    "# top game ratings per total sales in NA region\n",
    "NA_region.groupby('rating')['na_sales'].sum().sort_values(ascending = False)"
   ]
  },
  {
   "cell_type": "code",
   "execution_count": 61,
   "metadata": {},
   "outputs": [
    {
     "data": {
      "text/plain": [
       "rating\n",
       "E          351.98\n",
       "M          240.39\n",
       "unknown    238.55\n",
       "T          130.65\n",
       "E10+        44.18\n",
       "Name: eu_sales, dtype: float64"
      ]
     },
     "execution_count": 61,
     "metadata": {},
     "output_type": "execute_result"
    }
   ],
   "source": [
    "# top game ratings per total sales in EU region\n",
    "EU_region.groupby('rating')['eu_sales'].sum().sort_values(ascending = False)"
   ]
  },
  {
   "cell_type": "code",
   "execution_count": 62,
   "metadata": {},
   "outputs": [
    {
     "data": {
      "text/plain": [
       "rating\n",
       "unknown    310.67\n",
       "E          110.48\n",
       "T           47.37\n",
       "E10+        12.38\n",
       "M            7.41\n",
       "K-A          1.46\n",
       "Name: jp_sales, dtype: float64"
      ]
     },
     "execution_count": 62,
     "metadata": {},
     "output_type": "execute_result"
    }
   ],
   "source": [
    "# top game ratings per total sales in JP region\n",
    "JP_region.groupby('rating')['jp_sales'].sum().sort_values(ascending = False)"
   ]
  },
  {
   "cell_type": "markdown",
   "metadata": {},
   "source": [
    "As seen above, there is a large group of high grossing games with unknown ratings in each region, mostly seen in both the NA and JP regions. For games represented in the JP region, over 60% of them have unknown ratings. For each of the regions above, games with ratings of 'E' are among the most profitable in the market compared to games rated 'E10+' and 'K-A'. This is plausible as games rated 'E' don't have any restrictions for players and are marketed to the general population. Thus, we can conclude that game ratings affect sales regardless of region."
   ]
  },
  {
   "cell_type": "markdown",
   "metadata": {},
   "source": [
    "## Testing the Hypotheses"
   ]
  },
  {
   "cell_type": "markdown",
   "metadata": {},
   "source": [
    "We need to filter out user score values greater than the threshold of 10"
   ]
  },
  {
   "cell_type": "code",
   "execution_count": 63,
   "metadata": {},
   "outputs": [
    {
     "data": {
      "text/plain": [
       "count    7463.000000\n",
       "mean        7.126330\n",
       "std         1.499447\n",
       "min         0.000000\n",
       "25%         6.400000\n",
       "50%         7.500000\n",
       "75%         8.200000\n",
       "max         9.700000\n",
       "Name: user_score, dtype: float64"
      ]
     },
     "execution_count": 63,
     "metadata": {},
     "output_type": "execute_result"
    }
   ],
   "source": [
    "# filter actual user scores per threshold of 10\n",
    "user_rating = games_data.query(\"user_score < 11\")\n",
    "user_rating['user_score'].describe()"
   ]
  },
  {
   "cell_type": "markdown",
   "metadata": {},
   "source": [
    "### The average user ratings of the Xbox One and PC platforms are the same"
   ]
  },
  {
   "cell_type": "code",
   "execution_count": 64,
   "metadata": {},
   "outputs": [
    {
     "name": "stdout",
     "output_type": "stream",
     "text": [
      "p-value:  1.3037979620149106e-05\n",
      "We reject the null hypothesis\n"
     ]
    }
   ],
   "source": [
    "# testing hypotheses\n",
    "X1_rate = user_rating[user_rating['platform'] == 'XOne']['user_score']\n",
    "PC_rate = user_rating[user_rating['platform'] == 'PC']['user_score']\n",
    "alpha = 0.05  # critical statistical significance level\n",
    "# if the p-value is less than alpha, we reject the hypothesis\n",
    "\n",
    "results = st.ttest_ind(X1_rate, PC_rate)\n",
    "\n",
    "print('p-value: ', results.pvalue)\n",
    "\n",
    "if results.pvalue < alpha:\n",
    "    print(\"We reject the null hypothesis\")\n",
    "else:\n",
    "    print(\"We can't reject the null hypothesis\")"
   ]
  },
  {
   "cell_type": "markdown",
   "metadata": {},
   "source": [
    "H0: The average user ratings of the Xbox One and PC platforms are the same\n",
    "\n",
    "H1: The average user ratings of the Xbox One and PC platforms are different"
   ]
  },
  {
   "cell_type": "markdown",
   "metadata": {},
   "source": [
    "### The average user ratings for the Action and Sports genres are different"
   ]
  },
  {
   "cell_type": "code",
   "execution_count": 65,
   "metadata": {},
   "outputs": [
    {
     "name": "stdout",
     "output_type": "stream",
     "text": [
      "p-value:  0.06480928064420527\n",
      "We can't reject the null hypothesis\n"
     ]
    }
   ],
   "source": [
    "# testing hypotheses\n",
    "action_rate = user_rating[user_rating['genre'] == 'Action']['user_score']\n",
    "sports_rate = user_rating[user_rating['genre'] == 'Sports']['user_score']\n",
    "alpha = 0.05  # critical statistical significance level\n",
    "# if the p-value is less than alpha, we reject the hypothesis\n",
    "\n",
    "results = st.ttest_ind(action_rate, sports_rate)\n",
    "\n",
    "print('p-value: ', results.pvalue)\n",
    "\n",
    "if results.pvalue < alpha:\n",
    "    print(\"We reject the null hypothesis\")\n",
    "else:\n",
    "    print(\"We can't reject the null hypothesis\")"
   ]
  },
  {
   "cell_type": "markdown",
   "metadata": {},
   "source": [
    "Fail to reject H0: We don't have enough evidence to prove that the average user ratings for the Action and Sports genres are not equal"
   ]
  },
  {
   "cell_type": "markdown",
   "metadata": {},
   "source": [
    "## General Conclusion"
   ]
  },
  {
   "cell_type": "markdown",
   "metadata": {},
   "source": [
    "For this project, we analyzed the data to determine factors which positively influences the success of a game based on platform, genre, reviews, region and ratings.\n",
    "\n",
    "We had to handle missing values in columns `'name'`,`'year_of_release'`,`'critic_score'`,`'user_score'`and`'rating'`. For the `'name'` and `'year_of_release'` columns, the missing information was linked to the GEN platform with 1993 as its release year. It is possible that information on the game and its genre would most likely be unknown or just not recorded as the data is old. For columns `'critic_score'`, `'user_score'` and `'rating'`, it is possible no data was found for these columns, especialy the columns for reviews as the information was never populated given the possibility that individuals lacked the interest to review the games. As for rating, there could have been multiple ratings or a general rating for the games such that no information was thought to be needed.\n",
    "\n",
    "There is a 10-year period within which a platform grows on a steady incline, hits a peak and then a steady decline in sales till it hits 0 or close to at the end of range. Per the graphs plotted, ew platforms typically appear 5 to 6 years from peak of an older platform.\n",
    "\n",
    "We chose the period of 2006 to 2011 as there was common data for the highest grossing platforms, for closer analysis. For this time period, sales of PS3 games were the highest compared to sales of PS2 games which have the highest sales recorded in general for the given dataset. Sales for 'Call of Duty: Modern Warfare 3', which is a common game among top platforms, is higher than sales for other common platform games. \n",
    "\n",
    "Sports games are the most profitable genre as opposed to Puzzle and Strategy games with Action games as a close second in the filtered data for 2006 to 2011. Also among the regions, NA, JP and EU, Action and Sports games are among the highest sold game genres, though in the JP region, Role-playing games took the lead.\n",
    "\n",
    "Sales in the NA region are higher than sales in other regions, JP region having the least sales. For each of the regions, games with rating of 'E' are among the most profitable in the market compared to games rated 'K-A' or 'E10+', though games with unknown ratings had higher sales in both the NA and JP regions. This is plausible as games rated 'E' don't have any restrictions for players and are marketed to the general population. Thus, we can conclude that game ratings affect sales regardless of region\n",
    "\n",
    "Regarding the hypotheses given, the average user ratings of the Xbox One and PC platforms are different and we don't have enough evidence to prove that the average user ratings for the Action and Sports genres are not equal.\n",
    "\n",
    "In conclusion, PS2 platform is the most profitable game platform and games in the Sports and Action genre are the most profitable game genres. NA region has the highest recorded total sales. Critic score and User score positively influence sales of games and games with ratings of 'E', other than unknown, are among the most profitable rated games.\n"
   ]
  }
 ],
 "metadata": {
  "ExecuteTimeLog": [
   {
    "duration": 1216,
    "start_time": "2022-06-22T01:10:26.260Z"
   },
   {
    "duration": 96,
    "start_time": "2022-06-22T01:11:11.044Z"
   },
   {
    "duration": 14,
    "start_time": "2022-06-22T01:11:59.552Z"
   },
   {
    "duration": 4,
    "start_time": "2022-06-22T01:15:10.568Z"
   },
   {
    "duration": 13,
    "start_time": "2022-06-22T01:15:15.352Z"
   },
   {
    "duration": 15,
    "start_time": "2022-06-22T01:17:46.757Z"
   },
   {
    "duration": 97,
    "start_time": "2022-06-22T01:20:10.986Z"
   },
   {
    "duration": 3,
    "start_time": "2022-06-22T01:20:45.549Z"
   },
   {
    "duration": 5,
    "start_time": "2022-06-22T01:23:50.367Z"
   },
   {
    "duration": 5,
    "start_time": "2022-06-22T01:24:02.051Z"
   },
   {
    "duration": 3,
    "start_time": "2022-06-22T01:24:45.209Z"
   },
   {
    "duration": 4,
    "start_time": "2022-06-22T01:25:34.799Z"
   },
   {
    "duration": 14,
    "start_time": "2022-06-22T01:25:40.559Z"
   },
   {
    "duration": 9,
    "start_time": "2022-06-22T01:27:21.978Z"
   },
   {
    "duration": 13,
    "start_time": "2022-06-22T01:29:13.450Z"
   },
   {
    "duration": 11,
    "start_time": "2022-06-22T01:30:58.511Z"
   },
   {
    "duration": 8,
    "start_time": "2022-06-22T01:31:26.646Z"
   },
   {
    "duration": 3,
    "start_time": "2022-06-22T01:31:42.353Z"
   },
   {
    "duration": 20,
    "start_time": "2022-06-22T01:32:10.514Z"
   },
   {
    "duration": 17,
    "start_time": "2022-06-22T01:33:20.919Z"
   },
   {
    "duration": 25,
    "start_time": "2022-06-22T01:35:02.801Z"
   },
   {
    "duration": 6,
    "start_time": "2022-06-22T01:35:45.116Z"
   },
   {
    "duration": 3,
    "start_time": "2022-06-22T01:35:53.751Z"
   },
   {
    "duration": 9,
    "start_time": "2022-06-22T01:36:13.071Z"
   },
   {
    "duration": 183,
    "start_time": "2022-06-22T01:44:16.676Z"
   },
   {
    "duration": 9,
    "start_time": "2022-06-22T01:44:33.945Z"
   },
   {
    "duration": 13,
    "start_time": "2022-06-22T01:44:44.499Z"
   },
   {
    "duration": 10,
    "start_time": "2022-06-22T01:44:46.849Z"
   },
   {
    "duration": 61,
    "start_time": "2022-06-22T01:46:36.144Z"
   },
   {
    "duration": 9,
    "start_time": "2022-06-22T01:46:53.019Z"
   },
   {
    "duration": 29,
    "start_time": "2022-06-22T01:47:04.517Z"
   },
   {
    "duration": 6,
    "start_time": "2022-06-22T01:51:58.354Z"
   },
   {
    "duration": 4,
    "start_time": "2022-06-22T01:54:22.964Z"
   },
   {
    "duration": 9,
    "start_time": "2022-06-22T01:54:25.199Z"
   },
   {
    "duration": 5,
    "start_time": "2022-06-22T01:56:38.284Z"
   },
   {
    "duration": 6,
    "start_time": "2022-06-22T02:04:30.615Z"
   },
   {
    "duration": 6,
    "start_time": "2022-06-22T02:04:57.207Z"
   },
   {
    "duration": 7,
    "start_time": "2022-06-22T02:05:08.753Z"
   },
   {
    "duration": 13,
    "start_time": "2022-06-22T02:05:56.490Z"
   },
   {
    "duration": 9,
    "start_time": "2022-06-22T02:06:14.455Z"
   },
   {
    "duration": 6,
    "start_time": "2022-06-22T02:06:26.150Z"
   },
   {
    "duration": 5,
    "start_time": "2022-06-22T02:06:37.190Z"
   },
   {
    "duration": 4,
    "start_time": "2022-06-22T02:07:09.905Z"
   },
   {
    "duration": 4,
    "start_time": "2022-06-22T02:07:13.610Z"
   },
   {
    "duration": 14,
    "start_time": "2022-06-22T02:07:42.898Z"
   },
   {
    "duration": 735,
    "start_time": "2022-06-22T02:08:24.051Z"
   },
   {
    "duration": 18,
    "start_time": "2022-06-22T02:08:40.592Z"
   },
   {
    "duration": 6,
    "start_time": "2022-06-22T02:22:29.206Z"
   },
   {
    "duration": 6,
    "start_time": "2022-06-22T02:22:36.924Z"
   },
   {
    "duration": 17,
    "start_time": "2022-06-22T02:22:49.383Z"
   },
   {
    "duration": 7,
    "start_time": "2022-06-22T02:25:11.975Z"
   },
   {
    "duration": 8,
    "start_time": "2022-06-22T02:25:59.561Z"
   },
   {
    "duration": 28,
    "start_time": "2022-06-22T02:28:05.618Z"
   },
   {
    "duration": 11,
    "start_time": "2022-06-22T02:28:21.570Z"
   },
   {
    "duration": 9,
    "start_time": "2022-06-22T02:28:48.013Z"
   },
   {
    "duration": 65,
    "start_time": "2022-06-22T02:31:12.318Z"
   },
   {
    "duration": 54,
    "start_time": "2022-06-22T02:31:36.959Z"
   },
   {
    "duration": 67,
    "start_time": "2022-06-22T02:35:01.365Z"
   },
   {
    "duration": 9,
    "start_time": "2022-06-22T02:36:40.527Z"
   },
   {
    "duration": 178,
    "start_time": "2022-06-22T02:36:56.175Z"
   },
   {
    "duration": 36,
    "start_time": "2022-06-22T02:38:36.123Z"
   },
   {
    "duration": 50,
    "start_time": "2022-06-22T02:38:54.191Z"
   },
   {
    "duration": 17,
    "start_time": "2022-06-22T02:39:21.255Z"
   },
   {
    "duration": 139,
    "start_time": "2022-06-22T02:39:33.173Z"
   },
   {
    "duration": 3561,
    "start_time": "2022-06-22T02:39:49.171Z"
   },
   {
    "duration": 3618,
    "start_time": "2022-06-22T02:40:12.212Z"
   },
   {
    "duration": 29,
    "start_time": "2022-06-22T02:40:57.998Z"
   },
   {
    "duration": 1129,
    "start_time": "2022-06-22T02:43:05.351Z"
   },
   {
    "duration": 229,
    "start_time": "2022-06-22T02:43:28.490Z"
   },
   {
    "duration": 261,
    "start_time": "2022-06-22T02:43:41.104Z"
   },
   {
    "duration": 271,
    "start_time": "2022-06-22T02:44:48.713Z"
   },
   {
    "duration": 38,
    "start_time": "2022-06-22T02:45:38.064Z"
   },
   {
    "duration": 177,
    "start_time": "2022-06-22T02:47:28.673Z"
   },
   {
    "duration": 154,
    "start_time": "2022-06-22T02:47:48.583Z"
   },
   {
    "duration": 12,
    "start_time": "2022-06-22T02:49:22.264Z"
   },
   {
    "duration": 11,
    "start_time": "2022-06-22T02:50:01.182Z"
   },
   {
    "duration": 811,
    "start_time": "2022-06-22T02:50:13.591Z"
   },
   {
    "duration": 8,
    "start_time": "2022-06-22T02:50:37.694Z"
   },
   {
    "duration": 382,
    "start_time": "2022-06-22T02:51:15.992Z"
   },
   {
    "duration": 209,
    "start_time": "2022-06-22T02:51:34.709Z"
   },
   {
    "duration": 176,
    "start_time": "2022-06-22T02:52:06.492Z"
   },
   {
    "duration": 3202,
    "start_time": "2022-06-22T02:52:56.175Z"
   },
   {
    "duration": 3214,
    "start_time": "2022-06-22T02:53:28.915Z"
   },
   {
    "duration": 3150,
    "start_time": "2022-06-22T02:53:40.093Z"
   },
   {
    "duration": 18,
    "start_time": "2022-06-22T02:54:56.567Z"
   },
   {
    "duration": 120,
    "start_time": "2022-06-22T02:56:04.064Z"
   },
   {
    "duration": 2431,
    "start_time": "2022-06-22T02:56:13.768Z"
   },
   {
    "duration": 693,
    "start_time": "2022-06-22T02:56:38.054Z"
   },
   {
    "duration": 246,
    "start_time": "2022-06-22T02:57:13.750Z"
   },
   {
    "duration": 251,
    "start_time": "2022-06-22T02:57:25.560Z"
   },
   {
    "duration": 737,
    "start_time": "2022-06-22T02:58:43.321Z"
   },
   {
    "duration": 20,
    "start_time": "2022-06-22T02:59:06.361Z"
   },
   {
    "duration": 19,
    "start_time": "2022-06-22T03:04:13.384Z"
   },
   {
    "duration": 14,
    "start_time": "2022-06-22T03:04:35.897Z"
   },
   {
    "duration": 17,
    "start_time": "2022-06-22T03:04:41.266Z"
   },
   {
    "duration": 19,
    "start_time": "2022-06-22T03:04:46.357Z"
   },
   {
    "duration": 20,
    "start_time": "2022-06-22T03:05:05.971Z"
   },
   {
    "duration": 17,
    "start_time": "2022-06-22T03:05:12.238Z"
   },
   {
    "duration": 17,
    "start_time": "2022-06-22T03:05:23.664Z"
   },
   {
    "duration": 15,
    "start_time": "2022-06-22T03:05:29.705Z"
   },
   {
    "duration": 19,
    "start_time": "2022-06-22T03:05:37.200Z"
   },
   {
    "duration": 21,
    "start_time": "2022-06-22T03:05:40.944Z"
   },
   {
    "duration": 13,
    "start_time": "2022-06-22T03:05:56.875Z"
   },
   {
    "duration": 17,
    "start_time": "2022-06-22T03:07:39.983Z"
   },
   {
    "duration": 257,
    "start_time": "2022-06-22T03:08:15.898Z"
   },
   {
    "duration": 272,
    "start_time": "2022-06-22T03:08:33.113Z"
   },
   {
    "duration": 276,
    "start_time": "2022-06-22T03:08:49.348Z"
   },
   {
    "duration": 213,
    "start_time": "2022-06-22T03:09:49.787Z"
   },
   {
    "duration": 22,
    "start_time": "2022-06-22T03:11:25.243Z"
   },
   {
    "duration": 134,
    "start_time": "2022-06-22T03:11:45.895Z"
   },
   {
    "duration": 234,
    "start_time": "2022-06-22T03:12:14.793Z"
   },
   {
    "duration": 259,
    "start_time": "2022-06-22T03:19:26.233Z"
   },
   {
    "duration": 171,
    "start_time": "2022-06-22T03:19:45.266Z"
   },
   {
    "duration": 176,
    "start_time": "2022-06-22T03:21:15.298Z"
   },
   {
    "duration": 762,
    "start_time": "2022-06-22T03:22:19.373Z"
   },
   {
    "duration": 3824,
    "start_time": "2022-06-22T03:23:02.054Z"
   },
   {
    "duration": 6765,
    "start_time": "2022-06-22T03:23:42.902Z"
   },
   {
    "duration": 3385,
    "start_time": "2022-06-22T03:24:14.998Z"
   },
   {
    "duration": 27634,
    "start_time": "2022-06-22T03:25:05.347Z"
   },
   {
    "duration": 175,
    "start_time": "2022-06-22T03:25:46.968Z"
   },
   {
    "duration": 4551,
    "start_time": "2022-06-22T03:26:24.660Z"
   },
   {
    "duration": 33,
    "start_time": "2022-06-22T03:28:40.948Z"
   },
   {
    "duration": 13,
    "start_time": "2022-06-22T03:31:00.076Z"
   },
   {
    "duration": 15,
    "start_time": "2022-06-22T03:35:21.294Z"
   },
   {
    "duration": 770,
    "start_time": "2022-06-22T03:36:47.577Z"
   },
   {
    "duration": 860,
    "start_time": "2022-06-22T03:37:16.098Z"
   },
   {
    "duration": 6,
    "start_time": "2022-06-22T03:37:32.846Z"
   },
   {
    "duration": 9,
    "start_time": "2022-06-22T03:38:29.419Z"
   },
   {
    "duration": 7,
    "start_time": "2022-06-22T03:40:22.896Z"
   },
   {
    "duration": 30,
    "start_time": "2022-06-22T03:41:14.145Z"
   },
   {
    "duration": 12,
    "start_time": "2022-06-22T03:44:31.972Z"
   },
   {
    "duration": 25,
    "start_time": "2022-06-22T03:46:12.136Z"
   },
   {
    "duration": 10,
    "start_time": "2022-06-22T03:46:31.760Z"
   },
   {
    "duration": 609,
    "start_time": "2022-06-22T03:47:53.554Z"
   },
   {
    "duration": 27,
    "start_time": "2022-06-22T03:48:04.198Z"
   },
   {
    "duration": 6,
    "start_time": "2022-06-22T03:49:19.879Z"
   },
   {
    "duration": 26,
    "start_time": "2022-06-22T03:49:30.046Z"
   },
   {
    "duration": 20,
    "start_time": "2022-06-22T03:49:57.149Z"
   },
   {
    "duration": 1132,
    "start_time": "2022-06-22T03:50:36.882Z"
   },
   {
    "duration": 1196,
    "start_time": "2022-06-22T03:50:53.315Z"
   },
   {
    "duration": 1106,
    "start_time": "2022-06-22T03:51:25.028Z"
   },
   {
    "duration": 1214,
    "start_time": "2022-06-22T03:51:32.205Z"
   },
   {
    "duration": 620,
    "start_time": "2022-06-22T03:52:23.872Z"
   },
   {
    "duration": 779,
    "start_time": "2022-06-22T03:52:56.552Z"
   },
   {
    "duration": 23,
    "start_time": "2022-06-22T03:53:09.788Z"
   },
   {
    "duration": 541,
    "start_time": "2022-06-22T03:53:48.729Z"
   },
   {
    "duration": 754,
    "start_time": "2022-06-22T03:53:56.236Z"
   },
   {
    "duration": 850,
    "start_time": "2022-06-22T03:54:29.279Z"
   },
   {
    "duration": 34,
    "start_time": "2022-06-22T03:55:31.636Z"
   },
   {
    "duration": 1117,
    "start_time": "2022-06-22T03:55:46.690Z"
   },
   {
    "duration": 1435,
    "start_time": "2022-06-22T03:56:05.349Z"
   },
   {
    "duration": 5986,
    "start_time": "2022-06-22T03:56:21.636Z"
   },
   {
    "duration": 7832,
    "start_time": "2022-06-22T03:56:47.360Z"
   },
   {
    "duration": 1328,
    "start_time": "2022-06-22T03:57:27.932Z"
   },
   {
    "duration": 538,
    "start_time": "2022-06-22T03:58:00.644Z"
   },
   {
    "duration": 660,
    "start_time": "2022-06-22T03:58:20.629Z"
   },
   {
    "duration": 2668,
    "start_time": "2022-06-22T03:59:31.299Z"
   },
   {
    "duration": 637,
    "start_time": "2022-06-22T03:59:49.312Z"
   },
   {
    "duration": 645,
    "start_time": "2022-06-22T04:00:49.622Z"
   },
   {
    "duration": 704,
    "start_time": "2022-06-22T04:00:56.282Z"
   },
   {
    "duration": 598,
    "start_time": "2022-06-22T04:01:02.256Z"
   },
   {
    "duration": 719,
    "start_time": "2022-06-22T04:01:20.798Z"
   },
   {
    "duration": 481,
    "start_time": "2022-06-22T04:01:40.731Z"
   },
   {
    "duration": 35,
    "start_time": "2022-06-22T04:02:02.769Z"
   },
   {
    "duration": 775,
    "start_time": "2022-06-22T04:02:07.022Z"
   },
   {
    "duration": 26,
    "start_time": "2022-06-22T04:02:27.493Z"
   },
   {
    "duration": 961,
    "start_time": "2022-06-22T04:02:37.546Z"
   },
   {
    "duration": 50,
    "start_time": "2022-06-22T04:03:05.581Z"
   },
   {
    "duration": 656,
    "start_time": "2022-06-22T04:03:09.915Z"
   },
   {
    "duration": 1522,
    "start_time": "2022-06-22T04:03:31.813Z"
   },
   {
    "duration": 1115,
    "start_time": "2022-06-22T04:11:12.552Z"
   },
   {
    "duration": 94,
    "start_time": "2022-06-22T04:11:13.669Z"
   },
   {
    "duration": 14,
    "start_time": "2022-06-22T04:11:13.765Z"
   },
   {
    "duration": 3,
    "start_time": "2022-06-22T04:11:13.781Z"
   },
   {
    "duration": 18,
    "start_time": "2022-06-22T04:11:13.785Z"
   },
   {
    "duration": 31,
    "start_time": "2022-06-22T04:11:13.805Z"
   },
   {
    "duration": 12,
    "start_time": "2022-06-22T04:11:13.839Z"
   },
   {
    "duration": 12,
    "start_time": "2022-06-22T04:11:13.853Z"
   },
   {
    "duration": 15,
    "start_time": "2022-06-22T04:11:13.867Z"
   },
   {
    "duration": 9,
    "start_time": "2022-06-22T04:11:13.885Z"
   },
   {
    "duration": 33,
    "start_time": "2022-06-22T04:11:13.896Z"
   },
   {
    "duration": 28,
    "start_time": "2022-06-22T04:11:13.931Z"
   },
   {
    "duration": 7,
    "start_time": "2022-06-22T04:11:13.960Z"
   },
   {
    "duration": 6,
    "start_time": "2022-06-22T04:11:13.969Z"
   },
   {
    "duration": 20,
    "start_time": "2022-06-22T04:11:13.976Z"
   },
   {
    "duration": 41,
    "start_time": "2022-06-22T04:11:13.999Z"
   },
   {
    "duration": 12,
    "start_time": "2022-06-22T04:11:14.042Z"
   },
   {
    "duration": 6,
    "start_time": "2022-06-22T04:11:14.056Z"
   },
   {
    "duration": 12,
    "start_time": "2022-06-22T04:11:14.064Z"
   },
   {
    "duration": 11,
    "start_time": "2022-06-22T04:11:14.078Z"
   },
   {
    "duration": 4,
    "start_time": "2022-06-22T04:11:14.091Z"
   },
   {
    "duration": 46,
    "start_time": "2022-06-22T04:11:14.096Z"
   },
   {
    "duration": 9,
    "start_time": "2022-06-22T04:11:14.143Z"
   },
   {
    "duration": 10,
    "start_time": "2022-06-22T04:11:14.153Z"
   },
   {
    "duration": 5,
    "start_time": "2022-06-22T04:11:14.165Z"
   },
   {
    "duration": 6,
    "start_time": "2022-06-22T04:11:14.172Z"
   },
   {
    "duration": 9,
    "start_time": "2022-06-22T04:11:14.179Z"
   },
   {
    "duration": 13,
    "start_time": "2022-06-22T04:11:14.191Z"
   },
   {
    "duration": 5,
    "start_time": "2022-06-22T04:11:14.226Z"
   },
   {
    "duration": 8,
    "start_time": "2022-06-22T04:11:14.232Z"
   },
   {
    "duration": 290,
    "start_time": "2022-06-22T04:11:14.242Z"
   },
   {
    "duration": 233,
    "start_time": "2022-06-22T04:11:14.534Z"
   },
   {
    "duration": 6,
    "start_time": "2022-06-22T04:11:14.769Z"
   },
   {
    "duration": 31,
    "start_time": "2022-06-22T04:11:14.778Z"
   },
   {
    "duration": 1232,
    "start_time": "2022-06-22T04:11:14.810Z"
   },
   {
    "duration": 3364,
    "start_time": "2022-06-22T04:11:16.043Z"
   },
   {
    "duration": 1470,
    "start_time": "2022-06-22T04:12:30.027Z"
   },
   {
    "duration": 1133,
    "start_time": "2022-06-22T04:12:56.552Z"
   },
   {
    "duration": 1467,
    "start_time": "2022-06-22T04:13:17.484Z"
   },
   {
    "duration": 1521,
    "start_time": "2022-06-22T04:14:23.575Z"
   },
   {
    "duration": 1426,
    "start_time": "2022-06-22T04:14:38.180Z"
   },
   {
    "duration": 1363,
    "start_time": "2022-06-22T04:15:08.690Z"
   },
   {
    "duration": 1312,
    "start_time": "2022-06-22T04:16:02.499Z"
   },
   {
    "duration": 1296,
    "start_time": "2022-06-22T04:16:30.618Z"
   },
   {
    "duration": 1302,
    "start_time": "2022-06-22T04:16:51.617Z"
   },
   {
    "duration": 1577,
    "start_time": "2022-06-22T04:17:15.267Z"
   },
   {
    "duration": 1558,
    "start_time": "2022-06-22T04:17:25.251Z"
   },
   {
    "duration": 142,
    "start_time": "2022-06-22T04:21:06.569Z"
   },
   {
    "duration": 125,
    "start_time": "2022-06-22T04:22:02.806Z"
   },
   {
    "duration": 273,
    "start_time": "2022-06-22T04:22:16.193Z"
   },
   {
    "duration": 164,
    "start_time": "2022-06-22T04:22:21.412Z"
   },
   {
    "duration": 6,
    "start_time": "2022-06-22T04:30:35.623Z"
   },
   {
    "duration": 23,
    "start_time": "2022-06-22T04:30:40.810Z"
   },
   {
    "duration": 815,
    "start_time": "2022-06-22T04:30:46.524Z"
   },
   {
    "duration": 148,
    "start_time": "2022-06-22T04:31:01.887Z"
   },
   {
    "duration": 24,
    "start_time": "2022-06-22T04:33:21.238Z"
   },
   {
    "duration": 24,
    "start_time": "2022-06-22T04:35:41.648Z"
   },
   {
    "duration": 50,
    "start_time": "2022-06-22T04:39:11.492Z"
   },
   {
    "duration": 523,
    "start_time": "2022-06-22T04:39:19.061Z"
   },
   {
    "duration": 383,
    "start_time": "2022-06-22T04:39:32.805Z"
   },
   {
    "duration": 238,
    "start_time": "2022-06-22T04:39:36.239Z"
   },
   {
    "duration": 462,
    "start_time": "2022-06-22T04:40:00.122Z"
   },
   {
    "duration": 439,
    "start_time": "2022-06-22T04:40:21.263Z"
   },
   {
    "duration": 361,
    "start_time": "2022-06-22T04:40:36.218Z"
   },
   {
    "duration": 211,
    "start_time": "2022-06-22T04:40:45.894Z"
   },
   {
    "duration": 234,
    "start_time": "2022-06-22T04:41:20.236Z"
   },
   {
    "duration": 194,
    "start_time": "2022-06-22T04:41:26.645Z"
   },
   {
    "duration": 896,
    "start_time": "2022-06-22T04:42:26.213Z"
   },
   {
    "duration": 819,
    "start_time": "2022-06-22T04:42:34.925Z"
   },
   {
    "duration": 787,
    "start_time": "2022-06-22T04:42:43.433Z"
   },
   {
    "duration": 754,
    "start_time": "2022-06-22T04:44:55.120Z"
   },
   {
    "duration": 624,
    "start_time": "2022-06-22T04:45:04.356Z"
   },
   {
    "duration": 490,
    "start_time": "2022-06-22T04:47:42.553Z"
   },
   {
    "duration": 19,
    "start_time": "2022-06-22T04:48:30.444Z"
   },
   {
    "duration": 20,
    "start_time": "2022-06-22T04:48:38.457Z"
   },
   {
    "duration": 837,
    "start_time": "2022-06-22T04:49:23.207Z"
   },
   {
    "duration": 681,
    "start_time": "2022-06-22T04:49:38.812Z"
   },
   {
    "duration": 720,
    "start_time": "2022-06-22T04:50:24.585Z"
   },
   {
    "duration": 21,
    "start_time": "2022-06-22T04:51:10.788Z"
   },
   {
    "duration": 190,
    "start_time": "2022-06-22T04:51:25.164Z"
   },
   {
    "duration": 182,
    "start_time": "2022-06-22T04:52:14.658Z"
   },
   {
    "duration": 155,
    "start_time": "2022-06-22T04:56:49.864Z"
   },
   {
    "duration": 154,
    "start_time": "2022-06-22T04:57:43.695Z"
   },
   {
    "duration": 154,
    "start_time": "2022-06-22T04:57:59.244Z"
   },
   {
    "duration": 154,
    "start_time": "2022-06-22T04:58:39.649Z"
   },
   {
    "duration": 191,
    "start_time": "2022-06-22T04:58:54.668Z"
   },
   {
    "duration": 6,
    "start_time": "2022-06-22T05:01:23.524Z"
   },
   {
    "duration": 11,
    "start_time": "2022-06-22T05:01:40.433Z"
   },
   {
    "duration": 8,
    "start_time": "2022-06-22T05:03:08.830Z"
   },
   {
    "duration": 16,
    "start_time": "2022-06-22T05:03:16.414Z"
   },
   {
    "duration": 94,
    "start_time": "2022-06-22T05:03:54.562Z"
   },
   {
    "duration": 146,
    "start_time": "2022-06-22T05:04:06.589Z"
   },
   {
    "duration": 158,
    "start_time": "2022-06-22T05:04:28.671Z"
   },
   {
    "duration": 138,
    "start_time": "2022-06-22T05:04:41.529Z"
   },
   {
    "duration": 150,
    "start_time": "2022-06-22T05:04:57.754Z"
   },
   {
    "duration": 13,
    "start_time": "2022-06-22T05:05:18.605Z"
   },
   {
    "duration": 615,
    "start_time": "2022-06-22T05:06:22.436Z"
   },
   {
    "duration": 142,
    "start_time": "2022-06-22T05:06:45.518Z"
   },
   {
    "duration": 367,
    "start_time": "2022-06-22T05:07:02.991Z"
   },
   {
    "duration": 349,
    "start_time": "2022-06-22T05:07:22.823Z"
   },
   {
    "duration": 465,
    "start_time": "2022-06-22T05:07:27.176Z"
   },
   {
    "duration": 551,
    "start_time": "2022-06-22T05:07:33.203Z"
   },
   {
    "duration": 598,
    "start_time": "2022-06-22T05:07:44.368Z"
   },
   {
    "duration": 546,
    "start_time": "2022-06-22T05:07:58.204Z"
   },
   {
    "duration": 4,
    "start_time": "2022-06-22T05:11:28.309Z"
   },
   {
    "duration": 10,
    "start_time": "2022-06-22T05:12:38.600Z"
   },
   {
    "duration": 204,
    "start_time": "2022-06-22T05:13:48.357Z"
   },
   {
    "duration": 10,
    "start_time": "2022-06-22T05:14:14.618Z"
   },
   {
    "duration": 9,
    "start_time": "2022-06-22T05:14:30.643Z"
   },
   {
    "duration": 12,
    "start_time": "2022-06-22T05:14:56.450Z"
   },
   {
    "duration": 6,
    "start_time": "2022-06-22T05:16:02.318Z"
   },
   {
    "duration": 9,
    "start_time": "2022-06-22T05:16:05.297Z"
   },
   {
    "duration": 616,
    "start_time": "2022-06-22T05:16:58.360Z"
   },
   {
    "duration": 558,
    "start_time": "2022-06-22T05:17:18.527Z"
   },
   {
    "duration": 622,
    "start_time": "2022-06-22T05:18:40.734Z"
   },
   {
    "duration": 12,
    "start_time": "2022-06-22T05:26:28.166Z"
   },
   {
    "duration": 13,
    "start_time": "2022-06-22T05:27:07.968Z"
   },
   {
    "duration": 11,
    "start_time": "2022-06-22T05:28:32.242Z"
   },
   {
    "duration": 42,
    "start_time": "2022-06-22T05:28:59.683Z"
   },
   {
    "duration": 51,
    "start_time": "2022-06-22T05:29:03.313Z"
   },
   {
    "duration": 13,
    "start_time": "2022-06-22T05:30:54.315Z"
   },
   {
    "duration": 20,
    "start_time": "2022-06-22T05:31:44.114Z"
   },
   {
    "duration": 24,
    "start_time": "2022-06-22T05:32:54.681Z"
   },
   {
    "duration": 213,
    "start_time": "2022-06-22T05:33:31.755Z"
   },
   {
    "duration": 178,
    "start_time": "2022-06-22T05:34:35.270Z"
   },
   {
    "duration": 49,
    "start_time": "2022-06-22T05:34:55.239Z"
   },
   {
    "duration": 13876,
    "start_time": "2022-06-22T05:35:03.014Z"
   },
   {
    "duration": 11897,
    "start_time": "2022-06-22T05:36:04.383Z"
   },
   {
    "duration": 2577,
    "start_time": "2022-06-22T05:37:13.008Z"
   },
   {
    "duration": 1441,
    "start_time": "2022-06-22T05:37:27.248Z"
   },
   {
    "duration": 291,
    "start_time": "2022-06-22T05:37:39.387Z"
   },
   {
    "duration": 187,
    "start_time": "2022-06-22T05:38:46.826Z"
   },
   {
    "duration": 180,
    "start_time": "2022-06-22T05:38:57.385Z"
   },
   {
    "duration": 179,
    "start_time": "2022-06-22T05:39:10.476Z"
   },
   {
    "duration": 479,
    "start_time": "2022-06-22T05:46:15.629Z"
   },
   {
    "duration": 167,
    "start_time": "2022-06-22T05:46:43.413Z"
   },
   {
    "duration": 196,
    "start_time": "2022-06-22T05:48:10.358Z"
   },
   {
    "duration": 334,
    "start_time": "2022-06-22T05:48:31.820Z"
   },
   {
    "duration": 226,
    "start_time": "2022-06-22T05:50:56.096Z"
   },
   {
    "duration": 224,
    "start_time": "2022-06-22T05:57:44.005Z"
   },
   {
    "duration": 197,
    "start_time": "2022-06-22T05:57:58.445Z"
   },
   {
    "duration": 1243,
    "start_time": "2022-06-22T22:23:38.853Z"
   },
   {
    "duration": 114,
    "start_time": "2022-06-22T22:23:40.097Z"
   },
   {
    "duration": 26,
    "start_time": "2022-06-22T22:23:40.213Z"
   },
   {
    "duration": 14,
    "start_time": "2022-06-22T22:23:40.243Z"
   },
   {
    "duration": 24,
    "start_time": "2022-06-22T22:23:40.259Z"
   },
   {
    "duration": 31,
    "start_time": "2022-06-22T22:23:40.285Z"
   },
   {
    "duration": 15,
    "start_time": "2022-06-22T22:23:40.317Z"
   },
   {
    "duration": 39,
    "start_time": "2022-06-22T22:23:40.333Z"
   },
   {
    "duration": 41,
    "start_time": "2022-06-22T22:23:40.374Z"
   },
   {
    "duration": 30,
    "start_time": "2022-06-22T22:23:40.418Z"
   },
   {
    "duration": 20,
    "start_time": "2022-06-22T22:23:40.450Z"
   },
   {
    "duration": 35,
    "start_time": "2022-06-22T22:23:40.471Z"
   },
   {
    "duration": 5,
    "start_time": "2022-06-22T22:23:40.508Z"
   },
   {
    "duration": 33,
    "start_time": "2022-06-22T22:23:40.515Z"
   },
   {
    "duration": 25,
    "start_time": "2022-06-22T22:23:40.549Z"
   },
   {
    "duration": 38,
    "start_time": "2022-06-22T22:23:40.575Z"
   },
   {
    "duration": 17,
    "start_time": "2022-06-22T22:23:40.615Z"
   },
   {
    "duration": 61,
    "start_time": "2022-06-22T22:23:40.633Z"
   },
   {
    "duration": 26,
    "start_time": "2022-06-22T22:23:40.696Z"
   },
   {
    "duration": 50,
    "start_time": "2022-06-22T22:23:40.723Z"
   },
   {
    "duration": 20,
    "start_time": "2022-06-22T22:23:40.775Z"
   },
   {
    "duration": 45,
    "start_time": "2022-06-22T22:23:40.796Z"
   },
   {
    "duration": 27,
    "start_time": "2022-06-22T22:23:40.844Z"
   },
   {
    "duration": 22,
    "start_time": "2022-06-22T22:23:40.872Z"
   },
   {
    "duration": 70,
    "start_time": "2022-06-22T22:23:40.895Z"
   },
   {
    "duration": 20,
    "start_time": "2022-06-22T22:23:40.967Z"
   },
   {
    "duration": 33,
    "start_time": "2022-06-22T22:23:40.989Z"
   },
   {
    "duration": 52,
    "start_time": "2022-06-22T22:23:41.026Z"
   },
   {
    "duration": 20,
    "start_time": "2022-06-22T22:23:41.079Z"
   },
   {
    "duration": 42,
    "start_time": "2022-06-22T22:23:41.101Z"
   },
   {
    "duration": 327,
    "start_time": "2022-06-22T22:23:41.145Z"
   },
   {
    "duration": 232,
    "start_time": "2022-06-22T22:23:41.473Z"
   },
   {
    "duration": 6,
    "start_time": "2022-06-22T22:23:41.706Z"
   },
   {
    "duration": 56,
    "start_time": "2022-06-22T22:23:41.713Z"
   },
   {
    "duration": 912,
    "start_time": "2022-06-22T22:23:41.771Z"
   },
   {
    "duration": 159,
    "start_time": "2022-06-22T22:23:42.685Z"
   },
   {
    "duration": 25,
    "start_time": "2022-06-22T22:23:42.847Z"
   },
   {
    "duration": 190,
    "start_time": "2022-06-22T22:23:42.873Z"
   },
   {
    "duration": 204,
    "start_time": "2022-06-22T22:23:43.065Z"
   },
   {
    "duration": 688,
    "start_time": "2022-06-22T22:23:43.271Z"
   },
   {
    "duration": 5,
    "start_time": "2022-06-22T22:23:43.961Z"
   },
   {
    "duration": 20,
    "start_time": "2022-06-22T22:23:43.968Z"
   },
   {
    "duration": 694,
    "start_time": "2022-06-22T22:23:43.990Z"
   },
   {
    "duration": 247,
    "start_time": "2022-06-22T22:23:44.685Z"
   },
   {
    "duration": 226,
    "start_time": "2022-06-22T22:24:41.948Z"
   },
   {
    "duration": 243,
    "start_time": "2022-06-22T22:24:56.345Z"
   },
   {
    "duration": 243,
    "start_time": "2022-06-22T22:25:07.644Z"
   },
   {
    "duration": 7,
    "start_time": "2022-06-22T22:26:37.792Z"
   },
   {
    "duration": 161,
    "start_time": "2022-06-22T22:28:24.556Z"
   },
   {
    "duration": 134,
    "start_time": "2022-06-22T22:28:39.379Z"
   },
   {
    "duration": 272,
    "start_time": "2022-06-22T22:28:52.300Z"
   },
   {
    "duration": 211,
    "start_time": "2022-06-22T22:29:06.884Z"
   },
   {
    "duration": 201,
    "start_time": "2022-06-22T22:29:28.519Z"
   },
   {
    "duration": 120,
    "start_time": "2022-06-22T22:32:32.498Z"
   },
   {
    "duration": 38,
    "start_time": "2022-06-22T22:32:39.309Z"
   },
   {
    "duration": 124,
    "start_time": "2022-06-22T22:33:40.763Z"
   },
   {
    "duration": 114,
    "start_time": "2022-06-22T22:33:49.540Z"
   },
   {
    "duration": 7,
    "start_time": "2022-06-22T22:34:13.646Z"
   },
   {
    "duration": 140,
    "start_time": "2022-06-22T22:35:05.366Z"
   },
   {
    "duration": 181,
    "start_time": "2022-06-22T22:35:11.502Z"
   },
   {
    "duration": 235,
    "start_time": "2022-06-22T22:35:21.763Z"
   },
   {
    "duration": 460,
    "start_time": "2022-06-22T22:35:35.189Z"
   },
   {
    "duration": 355,
    "start_time": "2022-06-22T22:36:04.874Z"
   },
   {
    "duration": 364,
    "start_time": "2022-06-22T22:36:19.183Z"
   },
   {
    "duration": 104,
    "start_time": "2022-06-22T22:38:28.598Z"
   },
   {
    "duration": 7,
    "start_time": "2022-06-22T22:38:33.944Z"
   },
   {
    "duration": 9,
    "start_time": "2022-06-22T22:38:51.071Z"
   },
   {
    "duration": 7,
    "start_time": "2022-06-22T22:39:42.192Z"
   },
   {
    "duration": 9,
    "start_time": "2022-06-22T22:40:02.273Z"
   },
   {
    "duration": 40,
    "start_time": "2022-06-22T22:40:54.169Z"
   },
   {
    "duration": 5,
    "start_time": "2022-06-22T22:41:49.440Z"
   },
   {
    "duration": 5,
    "start_time": "2022-06-22T22:42:23.981Z"
   },
   {
    "duration": 5,
    "start_time": "2022-06-22T22:42:47.768Z"
   },
   {
    "duration": 40,
    "start_time": "2022-06-22T22:42:57.882Z"
   },
   {
    "duration": 22,
    "start_time": "2022-06-22T22:43:10.775Z"
   },
   {
    "duration": 18,
    "start_time": "2022-06-22T22:43:24.276Z"
   },
   {
    "duration": 17,
    "start_time": "2022-06-22T22:43:32.758Z"
   },
   {
    "duration": 23,
    "start_time": "2022-06-22T22:43:53.878Z"
   },
   {
    "duration": 7,
    "start_time": "2022-06-22T22:45:28.343Z"
   },
   {
    "duration": 5,
    "start_time": "2022-06-22T22:45:56.847Z"
   },
   {
    "duration": 35,
    "start_time": "2022-06-22T22:46:23.852Z"
   },
   {
    "duration": 6,
    "start_time": "2022-06-22T22:46:32.115Z"
   },
   {
    "duration": 6,
    "start_time": "2022-06-22T22:47:12.085Z"
   },
   {
    "duration": 31,
    "start_time": "2022-06-22T22:48:04.179Z"
   },
   {
    "duration": 6,
    "start_time": "2022-06-22T22:48:47.044Z"
   },
   {
    "duration": 6,
    "start_time": "2022-06-22T22:49:21.360Z"
   },
   {
    "duration": 7,
    "start_time": "2022-06-22T22:49:34.153Z"
   },
   {
    "duration": 7,
    "start_time": "2022-06-22T22:49:49.844Z"
   },
   {
    "duration": 6,
    "start_time": "2022-06-22T22:49:54.346Z"
   },
   {
    "duration": 8,
    "start_time": "2022-06-22T22:49:57.544Z"
   },
   {
    "duration": 7,
    "start_time": "2022-06-22T22:50:08.189Z"
   },
   {
    "duration": 8,
    "start_time": "2022-06-22T22:50:12.656Z"
   },
   {
    "duration": 8,
    "start_time": "2022-06-22T22:50:26.057Z"
   },
   {
    "duration": 8,
    "start_time": "2022-06-22T22:50:28.744Z"
   },
   {
    "duration": 8,
    "start_time": "2022-06-22T22:50:34.407Z"
   },
   {
    "duration": 7,
    "start_time": "2022-06-22T22:50:36.714Z"
   },
   {
    "duration": 9,
    "start_time": "2022-06-22T22:53:05.990Z"
   },
   {
    "duration": 207,
    "start_time": "2022-06-22T22:53:51.540Z"
   },
   {
    "duration": 228,
    "start_time": "2022-06-22T23:01:34.396Z"
   },
   {
    "duration": 7204,
    "start_time": "2022-06-22T23:04:44.211Z"
   },
   {
    "duration": 232,
    "start_time": "2022-06-22T23:05:29.950Z"
   },
   {
    "duration": 260,
    "start_time": "2022-06-22T23:06:12.596Z"
   },
   {
    "duration": 205,
    "start_time": "2022-06-22T23:35:26.860Z"
   },
   {
    "duration": 207,
    "start_time": "2022-06-22T23:35:52.247Z"
   },
   {
    "duration": 136,
    "start_time": "2022-06-22T23:36:07.847Z"
   },
   {
    "duration": 160,
    "start_time": "2022-06-22T23:36:39.196Z"
   },
   {
    "duration": 146,
    "start_time": "2022-06-22T23:37:02.374Z"
   },
   {
    "duration": 134,
    "start_time": "2022-06-22T23:37:27.961Z"
   },
   {
    "duration": 161,
    "start_time": "2022-06-22T23:37:35.755Z"
   },
   {
    "duration": 173,
    "start_time": "2022-06-22T23:38:07.487Z"
   },
   {
    "duration": 162,
    "start_time": "2022-06-22T23:38:16.556Z"
   },
   {
    "duration": 167,
    "start_time": "2022-06-22T23:38:39.479Z"
   },
   {
    "duration": 197,
    "start_time": "2022-06-22T23:39:03.123Z"
   },
   {
    "duration": 376,
    "start_time": "2022-06-22T23:39:42.160Z"
   },
   {
    "duration": 145,
    "start_time": "2022-06-22T23:42:31.047Z"
   },
   {
    "duration": 164,
    "start_time": "2022-06-22T23:42:44.497Z"
   },
   {
    "duration": 178,
    "start_time": "2022-06-22T23:42:56.921Z"
   },
   {
    "duration": 179,
    "start_time": "2022-06-22T23:43:06.092Z"
   },
   {
    "duration": 162,
    "start_time": "2022-06-22T23:43:28.256Z"
   },
   {
    "duration": 156,
    "start_time": "2022-06-22T23:43:41.613Z"
   },
   {
    "duration": 528,
    "start_time": "2022-06-22T23:43:53.414Z"
   },
   {
    "duration": 487,
    "start_time": "2022-06-22T23:44:38.803Z"
   },
   {
    "duration": 164,
    "start_time": "2022-06-22T23:45:00.230Z"
   },
   {
    "duration": 178,
    "start_time": "2022-06-22T23:45:07.222Z"
   },
   {
    "duration": 170,
    "start_time": "2022-06-22T23:46:41.887Z"
   },
   {
    "duration": 169,
    "start_time": "2022-06-22T23:46:54.804Z"
   },
   {
    "duration": 7,
    "start_time": "2022-06-22T23:50:25.290Z"
   },
   {
    "duration": 8,
    "start_time": "2022-06-22T23:50:33.755Z"
   },
   {
    "duration": 7,
    "start_time": "2022-06-22T23:50:59.554Z"
   },
   {
    "duration": 8,
    "start_time": "2022-06-22T23:51:45.290Z"
   },
   {
    "duration": 19,
    "start_time": "2022-06-22T23:51:51.325Z"
   },
   {
    "duration": 10,
    "start_time": "2022-06-22T23:55:20.343Z"
   },
   {
    "duration": 8,
    "start_time": "2022-06-22T23:55:46.459Z"
   },
   {
    "duration": 10,
    "start_time": "2022-06-22T23:56:12.584Z"
   },
   {
    "duration": 7,
    "start_time": "2022-06-22T23:56:34.542Z"
   },
   {
    "duration": 21,
    "start_time": "2022-06-22T23:58:19.219Z"
   },
   {
    "duration": 9,
    "start_time": "2022-06-22T23:58:26.067Z"
   },
   {
    "duration": 51,
    "start_time": "2022-06-22T23:59:24.601Z"
   },
   {
    "duration": 12,
    "start_time": "2022-06-23T00:00:21.040Z"
   },
   {
    "duration": 5,
    "start_time": "2022-06-23T00:16:08.082Z"
   },
   {
    "duration": 15,
    "start_time": "2022-06-23T00:16:38.553Z"
   },
   {
    "duration": 5,
    "start_time": "2022-06-23T00:16:42.980Z"
   },
   {
    "duration": 28,
    "start_time": "2022-06-23T00:17:05.206Z"
   },
   {
    "duration": 5,
    "start_time": "2022-06-23T00:17:23.808Z"
   },
   {
    "duration": 9,
    "start_time": "2022-06-23T00:19:48.080Z"
   },
   {
    "duration": 18,
    "start_time": "2022-06-23T00:20:28.825Z"
   },
   {
    "duration": 7,
    "start_time": "2022-06-23T00:20:44.078Z"
   },
   {
    "duration": 7,
    "start_time": "2022-06-23T00:20:46.951Z"
   },
   {
    "duration": 11,
    "start_time": "2022-06-23T00:22:10.906Z"
   },
   {
    "duration": 7,
    "start_time": "2022-06-23T00:22:35.587Z"
   },
   {
    "duration": 7,
    "start_time": "2022-06-23T00:22:40.377Z"
   },
   {
    "duration": 418,
    "start_time": "2022-06-23T01:32:17.835Z"
   },
   {
    "duration": 271,
    "start_time": "2022-06-23T01:32:39.571Z"
   },
   {
    "duration": 131,
    "start_time": "2022-06-23T01:32:59.200Z"
   },
   {
    "duration": 147,
    "start_time": "2022-06-23T01:33:19.509Z"
   },
   {
    "duration": 166,
    "start_time": "2022-06-23T01:33:37.561Z"
   },
   {
    "duration": 134,
    "start_time": "2022-06-23T01:34:37.925Z"
   },
   {
    "duration": 177,
    "start_time": "2022-06-23T01:34:59.226Z"
   },
   {
    "duration": 15,
    "start_time": "2022-06-23T02:39:03.883Z"
   },
   {
    "duration": 184,
    "start_time": "2022-06-23T02:48:16.311Z"
   },
   {
    "duration": 129,
    "start_time": "2022-06-23T02:49:14.560Z"
   },
   {
    "duration": 131,
    "start_time": "2022-06-23T02:53:17.401Z"
   },
   {
    "duration": 232,
    "start_time": "2022-06-23T03:46:58.651Z"
   },
   {
    "duration": 1013,
    "start_time": "2022-06-23T03:51:37.241Z"
   },
   {
    "duration": 870,
    "start_time": "2022-06-23T03:51:44.020Z"
   },
   {
    "duration": 1104,
    "start_time": "2022-06-23T03:52:01.860Z"
   },
   {
    "duration": 877,
    "start_time": "2022-06-23T03:52:23.099Z"
   },
   {
    "duration": 811,
    "start_time": "2022-06-23T03:52:39.760Z"
   },
   {
    "duration": 857,
    "start_time": "2022-06-23T04:06:32.558Z"
   },
   {
    "duration": 15,
    "start_time": "2022-06-23T04:14:54.862Z"
   },
   {
    "duration": 190,
    "start_time": "2022-06-23T04:16:59.136Z"
   },
   {
    "duration": 248,
    "start_time": "2022-06-23T04:17:06.237Z"
   },
   {
    "duration": 208,
    "start_time": "2022-06-23T04:17:28.045Z"
   },
   {
    "duration": 188,
    "start_time": "2022-06-23T04:25:10.590Z"
   },
   {
    "duration": 188,
    "start_time": "2022-06-23T04:25:30.452Z"
   },
   {
    "duration": 177,
    "start_time": "2022-06-23T04:28:28.998Z"
   },
   {
    "duration": 170,
    "start_time": "2022-06-23T04:28:49.082Z"
   },
   {
    "duration": 165,
    "start_time": "2022-06-23T04:29:12.106Z"
   },
   {
    "duration": 121,
    "start_time": "2022-06-23T04:29:20.180Z"
   },
   {
    "duration": 335,
    "start_time": "2022-06-23T04:32:14.416Z"
   },
   {
    "duration": 209,
    "start_time": "2022-06-23T04:32:23.443Z"
   },
   {
    "duration": 167,
    "start_time": "2022-06-23T04:34:02.001Z"
   },
   {
    "duration": 182,
    "start_time": "2022-06-23T04:34:22.263Z"
   },
   {
    "duration": 121,
    "start_time": "2022-06-23T04:34:34.943Z"
   },
   {
    "duration": 157,
    "start_time": "2022-06-23T04:35:11.903Z"
   },
   {
    "duration": 363,
    "start_time": "2022-06-23T04:35:34.919Z"
   },
   {
    "duration": 24,
    "start_time": "2022-06-23T04:35:43.642Z"
   },
   {
    "duration": 145,
    "start_time": "2022-06-23T04:36:01.643Z"
   },
   {
    "duration": 5,
    "start_time": "2022-06-23T04:36:48.782Z"
   },
   {
    "duration": 13,
    "start_time": "2022-06-23T04:36:54.439Z"
   },
   {
    "duration": 785,
    "start_time": "2022-06-23T04:37:04.361Z"
   },
   {
    "duration": 241,
    "start_time": "2022-06-23T04:38:02.567Z"
   },
   {
    "duration": 249,
    "start_time": "2022-06-23T04:38:19.771Z"
   },
   {
    "duration": 343,
    "start_time": "2022-06-23T04:39:14.154Z"
   },
   {
    "duration": 135,
    "start_time": "2022-06-23T04:39:45.909Z"
   },
   {
    "duration": 249,
    "start_time": "2022-06-23T04:43:23.695Z"
   },
   {
    "duration": 297,
    "start_time": "2022-06-23T04:43:42.955Z"
   },
   {
    "duration": 289,
    "start_time": "2022-06-23T04:43:51.104Z"
   },
   {
    "duration": 0,
    "start_time": "2022-06-23T04:50:02.360Z"
   },
   {
    "duration": 252,
    "start_time": "2022-06-23T04:50:39.042Z"
   },
   {
    "duration": 250,
    "start_time": "2022-06-23T04:52:30.797Z"
   },
   {
    "duration": 244,
    "start_time": "2022-06-23T04:54:13.942Z"
   },
   {
    "duration": 254,
    "start_time": "2022-06-23T04:54:43.020Z"
   },
   {
    "duration": 261,
    "start_time": "2022-06-23T04:55:25.326Z"
   },
   {
    "duration": 173,
    "start_time": "2022-06-23T04:55:49.538Z"
   },
   {
    "duration": 238,
    "start_time": "2022-06-23T04:57:41.520Z"
   },
   {
    "duration": 233,
    "start_time": "2022-06-23T04:59:49.259Z"
   },
   {
    "duration": 236,
    "start_time": "2022-06-23T05:00:11.075Z"
   },
   {
    "duration": 240,
    "start_time": "2022-06-23T05:00:22.377Z"
   },
   {
    "duration": 262,
    "start_time": "2022-06-23T05:01:29.332Z"
   },
   {
    "duration": 248,
    "start_time": "2022-06-23T05:01:47.213Z"
   },
   {
    "duration": 253,
    "start_time": "2022-06-23T05:04:05.741Z"
   },
   {
    "duration": 260,
    "start_time": "2022-06-23T05:04:11.327Z"
   },
   {
    "duration": 40,
    "start_time": "2022-06-23T05:06:14.223Z"
   },
   {
    "duration": 28,
    "start_time": "2022-06-23T05:06:33.870Z"
   },
   {
    "duration": 343,
    "start_time": "2022-06-23T05:07:43.854Z"
   },
   {
    "duration": 265,
    "start_time": "2022-06-23T05:07:54.151Z"
   },
   {
    "duration": 291,
    "start_time": "2022-06-23T05:08:06.939Z"
   },
   {
    "duration": 260,
    "start_time": "2022-06-23T05:08:17.248Z"
   },
   {
    "duration": 208,
    "start_time": "2022-06-23T05:14:21.045Z"
   },
   {
    "duration": 197,
    "start_time": "2022-06-23T05:14:34.973Z"
   },
   {
    "duration": 51,
    "start_time": "2022-06-23T05:42:44.748Z"
   },
   {
    "duration": 937,
    "start_time": "2022-06-23T05:44:45.036Z"
   },
   {
    "duration": 518,
    "start_time": "2022-06-23T05:45:22.755Z"
   },
   {
    "duration": 366,
    "start_time": "2022-06-23T05:45:57.139Z"
   },
   {
    "duration": 479,
    "start_time": "2022-06-23T05:46:16.014Z"
   },
   {
    "duration": 1118,
    "start_time": "2022-06-23T05:46:21.051Z"
   },
   {
    "duration": 928,
    "start_time": "2022-06-23T05:46:41.505Z"
   },
   {
    "duration": 14,
    "start_time": "2022-06-23T05:46:59.199Z"
   },
   {
    "duration": 49,
    "start_time": "2022-06-23T05:47:03.359Z"
   },
   {
    "duration": 8,
    "start_time": "2022-06-23T05:47:48.847Z"
   },
   {
    "duration": 7,
    "start_time": "2022-06-23T05:47:55.362Z"
   },
   {
    "duration": 9,
    "start_time": "2022-06-23T05:48:07.468Z"
   },
   {
    "duration": 10,
    "start_time": "2022-06-23T05:48:23.058Z"
   },
   {
    "duration": 8,
    "start_time": "2022-06-23T05:48:29.293Z"
   },
   {
    "duration": 14,
    "start_time": "2022-06-23T05:48:42.335Z"
   },
   {
    "duration": 9,
    "start_time": "2022-06-23T05:48:54.709Z"
   },
   {
    "duration": 9,
    "start_time": "2022-06-23T05:48:59.960Z"
   },
   {
    "duration": 8,
    "start_time": "2022-06-23T05:49:03.626Z"
   },
   {
    "duration": 191,
    "start_time": "2022-06-23T05:49:44.684Z"
   },
   {
    "duration": 9,
    "start_time": "2022-06-23T05:49:56.482Z"
   },
   {
    "duration": 7,
    "start_time": "2022-06-23T05:50:02.566Z"
   },
   {
    "duration": 8,
    "start_time": "2022-06-23T05:50:10.170Z"
   },
   {
    "duration": 7,
    "start_time": "2022-06-23T05:50:18.643Z"
   },
   {
    "duration": 7,
    "start_time": "2022-06-23T05:50:21.318Z"
   },
   {
    "duration": 7,
    "start_time": "2022-06-23T05:50:25.911Z"
   },
   {
    "duration": 7,
    "start_time": "2022-06-23T05:51:01.376Z"
   },
   {
    "duration": 6,
    "start_time": "2022-06-23T05:51:04.596Z"
   },
   {
    "duration": 186,
    "start_time": "2022-06-23T05:51:27.213Z"
   },
   {
    "duration": 165,
    "start_time": "2022-06-23T05:52:27.097Z"
   },
   {
    "duration": 215,
    "start_time": "2022-06-23T05:52:40.988Z"
   },
   {
    "duration": 192,
    "start_time": "2022-06-23T05:52:59.400Z"
   },
   {
    "duration": 7,
    "start_time": "2022-06-23T05:53:30.817Z"
   },
   {
    "duration": 6,
    "start_time": "2022-06-23T05:53:34.469Z"
   },
   {
    "duration": 6,
    "start_time": "2022-06-23T05:53:47.307Z"
   },
   {
    "duration": 6,
    "start_time": "2022-06-23T05:53:51.583Z"
   },
   {
    "duration": 6,
    "start_time": "2022-06-23T05:54:00.314Z"
   },
   {
    "duration": 6,
    "start_time": "2022-06-23T05:54:03.015Z"
   },
   {
    "duration": 7,
    "start_time": "2022-06-23T05:54:10.800Z"
   },
   {
    "duration": 5,
    "start_time": "2022-06-23T05:54:13.491Z"
   },
   {
    "duration": 5,
    "start_time": "2022-06-23T05:55:50.509Z"
   },
   {
    "duration": 7,
    "start_time": "2022-06-23T05:55:59.881Z"
   },
   {
    "duration": 7,
    "start_time": "2022-06-23T05:56:12.600Z"
   },
   {
    "duration": 181,
    "start_time": "2022-06-23T06:04:44.245Z"
   },
   {
    "duration": 193,
    "start_time": "2022-06-23T06:05:18.221Z"
   },
   {
    "duration": 190,
    "start_time": "2022-06-23T06:07:31.477Z"
   },
   {
    "duration": 169,
    "start_time": "2022-06-23T06:07:41.363Z"
   },
   {
    "duration": 180,
    "start_time": "2022-06-23T06:08:02.938Z"
   },
   {
    "duration": 200,
    "start_time": "2022-06-23T06:08:14.412Z"
   },
   {
    "duration": 430,
    "start_time": "2022-06-23T06:09:12.673Z"
   },
   {
    "duration": 199,
    "start_time": "2022-06-23T06:09:29.693Z"
   },
   {
    "duration": 233,
    "start_time": "2022-06-23T06:10:39.506Z"
   },
   {
    "duration": 195,
    "start_time": "2022-06-23T06:11:16.606Z"
   },
   {
    "duration": 214,
    "start_time": "2022-06-23T06:11:53.280Z"
   },
   {
    "duration": 8,
    "start_time": "2022-06-23T06:20:09.157Z"
   },
   {
    "duration": 8,
    "start_time": "2022-06-23T06:20:29.839Z"
   },
   {
    "duration": 6,
    "start_time": "2022-06-23T06:20:39.844Z"
   },
   {
    "duration": 9,
    "start_time": "2022-06-23T06:21:13.099Z"
   },
   {
    "duration": 7,
    "start_time": "2022-06-23T06:21:23.998Z"
   },
   {
    "duration": 7,
    "start_time": "2022-06-23T06:21:36.157Z"
   },
   {
    "duration": 12,
    "start_time": "2022-06-23T06:33:18.113Z"
   },
   {
    "duration": 8,
    "start_time": "2022-06-23T06:33:28.155Z"
   },
   {
    "duration": 6,
    "start_time": "2022-06-23T06:33:31.501Z"
   },
   {
    "duration": 7,
    "start_time": "2022-06-23T06:33:34.156Z"
   },
   {
    "duration": 21,
    "start_time": "2022-06-23T06:33:36.918Z"
   },
   {
    "duration": 8,
    "start_time": "2022-06-23T06:33:44.588Z"
   },
   {
    "duration": 37,
    "start_time": "2022-06-23T07:20:42.421Z"
   },
   {
    "duration": 1357,
    "start_time": "2022-06-23T20:26:01.557Z"
   },
   {
    "duration": 196,
    "start_time": "2022-06-23T20:26:02.917Z"
   },
   {
    "duration": 18,
    "start_time": "2022-06-23T20:26:03.115Z"
   },
   {
    "duration": 18,
    "start_time": "2022-06-23T20:26:03.135Z"
   },
   {
    "duration": 54,
    "start_time": "2022-06-23T20:26:03.155Z"
   },
   {
    "duration": 57,
    "start_time": "2022-06-23T20:26:03.211Z"
   },
   {
    "duration": 18,
    "start_time": "2022-06-23T20:26:03.269Z"
   },
   {
    "duration": 21,
    "start_time": "2022-06-23T20:26:03.289Z"
   },
   {
    "duration": 36,
    "start_time": "2022-06-23T20:26:03.312Z"
   },
   {
    "duration": 11,
    "start_time": "2022-06-23T20:26:03.352Z"
   },
   {
    "duration": 41,
    "start_time": "2022-06-23T20:26:03.365Z"
   },
   {
    "duration": 15,
    "start_time": "2022-06-23T20:26:03.408Z"
   },
   {
    "duration": 26,
    "start_time": "2022-06-23T20:26:03.425Z"
   },
   {
    "duration": 19,
    "start_time": "2022-06-23T20:26:03.453Z"
   },
   {
    "duration": 26,
    "start_time": "2022-06-23T20:26:03.474Z"
   },
   {
    "duration": 21,
    "start_time": "2022-06-23T20:26:03.502Z"
   },
   {
    "duration": 17,
    "start_time": "2022-06-23T20:26:03.526Z"
   },
   {
    "duration": 17,
    "start_time": "2022-06-23T20:26:03.545Z"
   },
   {
    "duration": 18,
    "start_time": "2022-06-23T20:26:03.565Z"
   },
   {
    "duration": 7,
    "start_time": "2022-06-23T20:26:03.585Z"
   },
   {
    "duration": 24,
    "start_time": "2022-06-23T20:26:03.594Z"
   },
   {
    "duration": 10,
    "start_time": "2022-06-23T20:26:03.620Z"
   },
   {
    "duration": 18,
    "start_time": "2022-06-23T20:26:03.633Z"
   },
   {
    "duration": 5,
    "start_time": "2022-06-23T20:26:03.654Z"
   },
   {
    "duration": 12,
    "start_time": "2022-06-23T20:26:03.661Z"
   },
   {
    "duration": 7,
    "start_time": "2022-06-23T20:26:03.675Z"
   },
   {
    "duration": 11,
    "start_time": "2022-06-23T20:26:03.685Z"
   },
   {
    "duration": 17,
    "start_time": "2022-06-23T20:26:03.730Z"
   },
   {
    "duration": 6,
    "start_time": "2022-06-23T20:26:03.749Z"
   },
   {
    "duration": 174,
    "start_time": "2022-06-23T20:26:03.757Z"
   },
   {
    "duration": 311,
    "start_time": "2022-06-23T20:26:03.933Z"
   },
   {
    "duration": 214,
    "start_time": "2022-06-23T20:26:04.246Z"
   },
   {
    "duration": 7,
    "start_time": "2022-06-23T20:26:04.463Z"
   },
   {
    "duration": 29,
    "start_time": "2022-06-23T20:26:04.472Z"
   },
   {
    "duration": 815,
    "start_time": "2022-06-23T20:26:04.503Z"
   },
   {
    "duration": 11,
    "start_time": "2022-06-23T20:26:05.320Z"
   },
   {
    "duration": 201,
    "start_time": "2022-06-23T20:26:05.333Z"
   },
   {
    "duration": 174,
    "start_time": "2022-06-23T20:26:05.536Z"
   },
   {
    "duration": 137,
    "start_time": "2022-06-23T20:26:05.712Z"
   },
   {
    "duration": 7,
    "start_time": "2022-06-23T20:26:05.850Z"
   },
   {
    "duration": 13,
    "start_time": "2022-06-23T20:26:05.859Z"
   },
   {
    "duration": 817,
    "start_time": "2022-06-23T20:26:05.873Z"
   },
   {
    "duration": 296,
    "start_time": "2022-06-23T20:26:06.692Z"
   },
   {
    "duration": 6,
    "start_time": "2022-06-23T20:26:06.990Z"
   },
   {
    "duration": 209,
    "start_time": "2022-06-23T20:26:06.998Z"
   },
   {
    "duration": 45,
    "start_time": "2022-06-23T20:26:07.209Z"
   },
   {
    "duration": 6,
    "start_time": "2022-06-23T20:26:07.256Z"
   },
   {
    "duration": 10,
    "start_time": "2022-06-23T20:26:07.264Z"
   },
   {
    "duration": 11,
    "start_time": "2022-06-23T20:26:07.276Z"
   },
   {
    "duration": 9,
    "start_time": "2022-06-23T20:26:07.289Z"
   },
   {
    "duration": 9,
    "start_time": "2022-06-23T20:26:07.327Z"
   },
   {
    "duration": 21,
    "start_time": "2022-06-23T20:26:07.338Z"
   },
   {
    "duration": 239,
    "start_time": "2022-06-23T20:26:07.361Z"
   },
   {
    "duration": 7,
    "start_time": "2022-06-23T20:26:07.601Z"
   },
   {
    "duration": 21,
    "start_time": "2022-06-23T20:26:07.610Z"
   },
   {
    "duration": 13,
    "start_time": "2022-06-23T20:26:07.632Z"
   },
   {
    "duration": 24,
    "start_time": "2022-06-23T20:26:07.646Z"
   },
   {
    "duration": 6,
    "start_time": "2022-06-23T20:26:07.672Z"
   },
   {
    "duration": 12,
    "start_time": "2022-06-23T20:26:07.679Z"
   },
   {
    "duration": 33,
    "start_time": "2022-06-23T20:26:07.692Z"
   },
   {
    "duration": 12,
    "start_time": "2022-06-23T20:26:07.728Z"
   },
   {
    "duration": 10,
    "start_time": "2022-06-23T20:26:07.742Z"
   },
   {
    "duration": 13,
    "start_time": "2022-06-23T20:26:07.754Z"
   },
   {
    "duration": 1217,
    "start_time": "2022-06-23T23:05:22.661Z"
   },
   {
    "duration": 91,
    "start_time": "2022-06-23T23:05:23.880Z"
   },
   {
    "duration": 16,
    "start_time": "2022-06-23T23:05:23.972Z"
   },
   {
    "duration": 5,
    "start_time": "2022-06-23T23:05:23.990Z"
   },
   {
    "duration": 16,
    "start_time": "2022-06-23T23:05:23.996Z"
   },
   {
    "duration": 16,
    "start_time": "2022-06-23T23:05:24.013Z"
   },
   {
    "duration": 9,
    "start_time": "2022-06-23T23:05:24.030Z"
   },
   {
    "duration": 13,
    "start_time": "2022-06-23T23:05:24.040Z"
   },
   {
    "duration": 12,
    "start_time": "2022-06-23T23:05:24.054Z"
   },
   {
    "duration": 2,
    "start_time": "2022-06-23T23:05:24.069Z"
   },
   {
    "duration": 15,
    "start_time": "2022-06-23T23:05:24.073Z"
   },
   {
    "duration": 6,
    "start_time": "2022-06-23T23:05:24.090Z"
   },
   {
    "duration": 6,
    "start_time": "2022-06-23T23:05:24.097Z"
   },
   {
    "duration": 10,
    "start_time": "2022-06-23T23:05:24.126Z"
   },
   {
    "duration": 17,
    "start_time": "2022-06-23T23:05:24.138Z"
   },
   {
    "duration": 11,
    "start_time": "2022-06-23T23:05:24.156Z"
   },
   {
    "duration": 7,
    "start_time": "2022-06-23T23:05:24.168Z"
   },
   {
    "duration": 6,
    "start_time": "2022-06-23T23:05:24.177Z"
   },
   {
    "duration": 43,
    "start_time": "2022-06-23T23:05:24.184Z"
   },
   {
    "duration": 7,
    "start_time": "2022-06-23T23:05:24.229Z"
   },
   {
    "duration": 16,
    "start_time": "2022-06-23T23:05:24.237Z"
   },
   {
    "duration": 9,
    "start_time": "2022-06-23T23:05:24.255Z"
   },
   {
    "duration": 17,
    "start_time": "2022-06-23T23:05:24.266Z"
   },
   {
    "duration": 4,
    "start_time": "2022-06-23T23:05:24.285Z"
   },
   {
    "duration": 36,
    "start_time": "2022-06-23T23:05:24.290Z"
   },
   {
    "duration": 9,
    "start_time": "2022-06-23T23:05:24.328Z"
   },
   {
    "duration": 15,
    "start_time": "2022-06-23T23:05:24.339Z"
   },
   {
    "duration": 20,
    "start_time": "2022-06-23T23:05:24.358Z"
   },
   {
    "duration": 10,
    "start_time": "2022-06-23T23:05:24.380Z"
   },
   {
    "duration": 182,
    "start_time": "2022-06-23T23:05:24.391Z"
   },
   {
    "duration": 284,
    "start_time": "2022-06-23T23:05:24.575Z"
   },
   {
    "duration": 210,
    "start_time": "2022-06-23T23:05:24.861Z"
   },
   {
    "duration": 6,
    "start_time": "2022-06-23T23:05:25.073Z"
   },
   {
    "duration": 24,
    "start_time": "2022-06-23T23:05:25.081Z"
   },
   {
    "duration": 806,
    "start_time": "2022-06-23T23:05:25.107Z"
   },
   {
    "duration": 6,
    "start_time": "2022-06-23T23:05:25.915Z"
   },
   {
    "duration": 176,
    "start_time": "2022-06-23T23:05:25.922Z"
   },
   {
    "duration": 171,
    "start_time": "2022-06-23T23:05:26.099Z"
   },
   {
    "duration": 225,
    "start_time": "2022-06-23T23:05:26.272Z"
   },
   {
    "duration": 5,
    "start_time": "2022-06-23T23:05:26.498Z"
   },
   {
    "duration": 25,
    "start_time": "2022-06-23T23:05:26.505Z"
   },
   {
    "duration": 639,
    "start_time": "2022-06-23T23:05:26.532Z"
   },
   {
    "duration": 240,
    "start_time": "2022-06-23T23:05:27.172Z"
   },
   {
    "duration": 14,
    "start_time": "2022-06-23T23:05:27.414Z"
   },
   {
    "duration": 186,
    "start_time": "2022-06-23T23:05:27.430Z"
   },
   {
    "duration": 35,
    "start_time": "2022-06-23T23:05:27.618Z"
   },
   {
    "duration": 6,
    "start_time": "2022-06-23T23:05:27.654Z"
   },
   {
    "duration": 8,
    "start_time": "2022-06-23T23:05:27.661Z"
   },
   {
    "duration": 10,
    "start_time": "2022-06-23T23:05:27.671Z"
   },
   {
    "duration": 8,
    "start_time": "2022-06-23T23:05:27.682Z"
   },
   {
    "duration": 10,
    "start_time": "2022-06-23T23:05:27.691Z"
   },
   {
    "duration": 24,
    "start_time": "2022-06-23T23:05:27.703Z"
   },
   {
    "duration": 200,
    "start_time": "2022-06-23T23:05:27.729Z"
   },
   {
    "duration": 7,
    "start_time": "2022-06-23T23:05:27.931Z"
   },
   {
    "duration": 11,
    "start_time": "2022-06-23T23:05:27.939Z"
   },
   {
    "duration": 10,
    "start_time": "2022-06-23T23:05:27.951Z"
   },
   {
    "duration": 23,
    "start_time": "2022-06-23T23:05:27.962Z"
   },
   {
    "duration": 6,
    "start_time": "2022-06-23T23:05:27.987Z"
   },
   {
    "duration": 33,
    "start_time": "2022-06-23T23:05:27.994Z"
   },
   {
    "duration": 13,
    "start_time": "2022-06-23T23:05:28.029Z"
   },
   {
    "duration": 24,
    "start_time": "2022-06-23T23:05:28.044Z"
   },
   {
    "duration": 9,
    "start_time": "2022-06-23T23:05:28.069Z"
   },
   {
    "duration": 16,
    "start_time": "2022-06-23T23:05:28.079Z"
   },
   {
    "duration": 3,
    "start_time": "2022-06-23T23:08:33.786Z"
   },
   {
    "duration": 64,
    "start_time": "2022-06-23T23:08:33.790Z"
   },
   {
    "duration": 14,
    "start_time": "2022-06-23T23:08:33.856Z"
   },
   {
    "duration": 13,
    "start_time": "2022-06-23T23:08:33.872Z"
   },
   {
    "duration": 23,
    "start_time": "2022-06-23T23:08:33.887Z"
   },
   {
    "duration": 23,
    "start_time": "2022-06-23T23:08:33.911Z"
   },
   {
    "duration": 13,
    "start_time": "2022-06-23T23:08:33.936Z"
   },
   {
    "duration": 17,
    "start_time": "2022-06-23T23:08:33.950Z"
   },
   {
    "duration": 12,
    "start_time": "2022-06-23T23:08:33.968Z"
   },
   {
    "duration": 3,
    "start_time": "2022-06-23T23:08:33.981Z"
   },
   {
    "duration": 19,
    "start_time": "2022-06-23T23:08:33.987Z"
   },
   {
    "duration": 32,
    "start_time": "2022-06-23T23:08:34.008Z"
   },
   {
    "duration": 10,
    "start_time": "2022-06-23T23:08:34.041Z"
   },
   {
    "duration": 11,
    "start_time": "2022-06-23T23:08:34.053Z"
   },
   {
    "duration": 10,
    "start_time": "2022-06-23T23:09:43.112Z"
   },
   {
    "duration": 105,
    "start_time": "2022-06-23T23:11:21.190Z"
   },
   {
    "duration": 117,
    "start_time": "2022-06-23T23:11:54.424Z"
   },
   {
    "duration": 15,
    "start_time": "2022-06-23T23:20:32.986Z"
   },
   {
    "duration": 3,
    "start_time": "2022-06-23T23:21:02.594Z"
   },
   {
    "duration": 66,
    "start_time": "2022-06-23T23:21:02.599Z"
   },
   {
    "duration": 13,
    "start_time": "2022-06-23T23:21:02.667Z"
   },
   {
    "duration": 3,
    "start_time": "2022-06-23T23:21:02.681Z"
   },
   {
    "duration": 23,
    "start_time": "2022-06-23T23:21:02.686Z"
   },
   {
    "duration": 11,
    "start_time": "2022-06-23T23:21:02.711Z"
   },
   {
    "duration": 10,
    "start_time": "2022-06-23T23:21:02.726Z"
   },
   {
    "duration": 12,
    "start_time": "2022-06-23T23:21:02.737Z"
   },
   {
    "duration": 12,
    "start_time": "2022-06-23T23:21:02.751Z"
   },
   {
    "duration": 17,
    "start_time": "2022-06-23T23:21:02.765Z"
   },
   {
    "duration": 17,
    "start_time": "2022-06-23T23:21:02.784Z"
   },
   {
    "duration": 5,
    "start_time": "2022-06-23T23:21:02.803Z"
   },
   {
    "duration": 5,
    "start_time": "2022-06-23T23:21:02.809Z"
   },
   {
    "duration": 16,
    "start_time": "2022-06-23T23:21:02.815Z"
   },
   {
    "duration": 8,
    "start_time": "2022-06-23T23:21:02.833Z"
   },
   {
    "duration": 102,
    "start_time": "2022-06-23T23:21:02.842Z"
   },
   {
    "duration": 13,
    "start_time": "2022-06-23T23:21:02.945Z"
   },
   {
    "duration": 14,
    "start_time": "2022-06-23T23:21:02.959Z"
   },
   {
    "duration": 35,
    "start_time": "2022-06-23T23:21:02.975Z"
   },
   {
    "duration": 18,
    "start_time": "2022-06-23T23:21:03.012Z"
   },
   {
    "duration": 14,
    "start_time": "2022-06-23T23:21:03.032Z"
   },
   {
    "duration": 6,
    "start_time": "2022-06-23T23:21:03.048Z"
   },
   {
    "duration": 4,
    "start_time": "2022-06-23T23:25:08.887Z"
   },
   {
    "duration": 9,
    "start_time": "2022-06-23T23:25:18.965Z"
   },
   {
    "duration": 3,
    "start_time": "2022-06-23T23:26:27.929Z"
   },
   {
    "duration": 73,
    "start_time": "2022-06-23T23:26:27.934Z"
   },
   {
    "duration": 13,
    "start_time": "2022-06-23T23:26:28.009Z"
   },
   {
    "duration": 4,
    "start_time": "2022-06-23T23:26:28.023Z"
   },
   {
    "duration": 14,
    "start_time": "2022-06-23T23:26:28.028Z"
   },
   {
    "duration": 11,
    "start_time": "2022-06-23T23:26:28.044Z"
   },
   {
    "duration": 12,
    "start_time": "2022-06-23T23:26:28.056Z"
   },
   {
    "duration": 21,
    "start_time": "2022-06-23T23:26:28.069Z"
   },
   {
    "duration": 9,
    "start_time": "2022-06-23T23:26:28.091Z"
   },
   {
    "duration": 5,
    "start_time": "2022-06-23T23:26:28.101Z"
   },
   {
    "duration": 9,
    "start_time": "2022-06-23T23:26:28.125Z"
   },
   {
    "duration": 6,
    "start_time": "2022-06-23T23:26:28.136Z"
   },
   {
    "duration": 9,
    "start_time": "2022-06-23T23:26:28.144Z"
   },
   {
    "duration": 21,
    "start_time": "2022-06-23T23:26:28.154Z"
   },
   {
    "duration": 8,
    "start_time": "2022-06-23T23:26:28.177Z"
   },
   {
    "duration": 95,
    "start_time": "2022-06-23T23:26:28.186Z"
   },
   {
    "duration": 14,
    "start_time": "2022-06-23T23:26:28.283Z"
   },
   {
    "duration": 15,
    "start_time": "2022-06-23T23:26:28.299Z"
   },
   {
    "duration": 14,
    "start_time": "2022-06-23T23:26:28.315Z"
   },
   {
    "duration": 7,
    "start_time": "2022-06-23T23:26:28.330Z"
   },
   {
    "duration": 11,
    "start_time": "2022-06-23T23:26:28.338Z"
   },
   {
    "duration": 18,
    "start_time": "2022-06-23T23:26:28.350Z"
   },
   {
    "duration": 9,
    "start_time": "2022-06-23T23:26:28.369Z"
   },
   {
    "duration": 12,
    "start_time": "2022-06-23T23:26:28.379Z"
   },
   {
    "duration": 16,
    "start_time": "2022-06-23T23:26:28.392Z"
   },
   {
    "duration": 17,
    "start_time": "2022-06-23T23:26:28.409Z"
   },
   {
    "duration": 4,
    "start_time": "2022-06-23T23:26:28.427Z"
   },
   {
    "duration": 7,
    "start_time": "2022-06-23T23:26:28.433Z"
   },
   {
    "duration": 4,
    "start_time": "2022-06-23T23:26:28.443Z"
   },
   {
    "duration": 16,
    "start_time": "2022-06-23T23:26:28.449Z"
   },
   {
    "duration": 5,
    "start_time": "2022-06-23T23:26:28.466Z"
   },
   {
    "duration": 220,
    "start_time": "2022-06-23T23:26:28.472Z"
   },
   {
    "duration": 246,
    "start_time": "2022-06-23T23:26:28.693Z"
   },
   {
    "duration": 191,
    "start_time": "2022-06-23T23:26:28.940Z"
   },
   {
    "duration": 5,
    "start_time": "2022-06-23T23:26:29.133Z"
   },
   {
    "duration": 27,
    "start_time": "2022-06-23T23:26:29.140Z"
   },
   {
    "duration": 762,
    "start_time": "2022-06-23T23:26:29.169Z"
   },
   {
    "duration": 6,
    "start_time": "2022-06-23T23:28:26.590Z"
   },
   {
    "duration": 168,
    "start_time": "2022-06-23T23:28:29.272Z"
   },
   {
    "duration": 143,
    "start_time": "2022-06-23T23:29:07.736Z"
   },
   {
    "duration": 103,
    "start_time": "2022-06-23T23:30:01.797Z"
   },
   {
    "duration": 6,
    "start_time": "2022-06-23T23:30:24.544Z"
   },
   {
    "duration": 9,
    "start_time": "2022-06-23T23:30:27.460Z"
   },
   {
    "duration": 219,
    "start_time": "2022-06-23T23:30:38.275Z"
   },
   {
    "duration": 6,
    "start_time": "2022-06-23T23:30:51.998Z"
   },
   {
    "duration": 162,
    "start_time": "2022-06-23T23:30:59.510Z"
   },
   {
    "duration": 6,
    "start_time": "2022-06-23T23:32:03.328Z"
   },
   {
    "duration": 264,
    "start_time": "2022-06-23T23:32:08.205Z"
   },
   {
    "duration": 153,
    "start_time": "2022-06-23T23:32:17.581Z"
   },
   {
    "duration": 127,
    "start_time": "2022-06-23T23:32:33.370Z"
   },
   {
    "duration": 166,
    "start_time": "2022-06-23T23:32:52.845Z"
   },
   {
    "duration": 121,
    "start_time": "2022-06-23T23:33:05.605Z"
   },
   {
    "duration": 5,
    "start_time": "2022-06-23T23:33:12.591Z"
   },
   {
    "duration": 10,
    "start_time": "2022-06-23T23:33:16.695Z"
   },
   {
    "duration": 656,
    "start_time": "2022-06-23T23:33:29.339Z"
   },
   {
    "duration": 236,
    "start_time": "2022-06-23T23:33:38.483Z"
   },
   {
    "duration": 6,
    "start_time": "2022-06-23T23:33:46.760Z"
   },
   {
    "duration": 3,
    "start_time": "2022-06-23T23:34:35.957Z"
   },
   {
    "duration": 56,
    "start_time": "2022-06-23T23:34:35.962Z"
   },
   {
    "duration": 13,
    "start_time": "2022-06-23T23:34:36.020Z"
   },
   {
    "duration": 3,
    "start_time": "2022-06-23T23:34:36.034Z"
   },
   {
    "duration": 22,
    "start_time": "2022-06-23T23:34:36.039Z"
   },
   {
    "duration": 12,
    "start_time": "2022-06-23T23:34:36.063Z"
   },
   {
    "duration": 13,
    "start_time": "2022-06-23T23:34:36.077Z"
   },
   {
    "duration": 37,
    "start_time": "2022-06-23T23:34:36.091Z"
   },
   {
    "duration": 9,
    "start_time": "2022-06-23T23:34:36.130Z"
   },
   {
    "duration": 8,
    "start_time": "2022-06-23T23:34:36.140Z"
   },
   {
    "duration": 16,
    "start_time": "2022-06-23T23:34:36.152Z"
   },
   {
    "duration": 7,
    "start_time": "2022-06-23T23:34:36.170Z"
   },
   {
    "duration": 15,
    "start_time": "2022-06-23T23:34:36.179Z"
   },
   {
    "duration": 14,
    "start_time": "2022-06-23T23:34:36.195Z"
   },
   {
    "duration": 18,
    "start_time": "2022-06-23T23:34:36.210Z"
   },
   {
    "duration": 106,
    "start_time": "2022-06-23T23:34:36.229Z"
   },
   {
    "duration": 12,
    "start_time": "2022-06-23T23:34:36.337Z"
   },
   {
    "duration": 8,
    "start_time": "2022-06-23T23:34:36.350Z"
   },
   {
    "duration": 11,
    "start_time": "2022-06-23T23:34:36.359Z"
   },
   {
    "duration": 20,
    "start_time": "2022-06-23T23:34:36.371Z"
   },
   {
    "duration": 24,
    "start_time": "2022-06-23T23:34:36.393Z"
   },
   {
    "duration": 8,
    "start_time": "2022-06-23T23:34:36.419Z"
   },
   {
    "duration": 13,
    "start_time": "2022-06-23T23:34:36.429Z"
   },
   {
    "duration": 15,
    "start_time": "2022-06-23T23:34:36.444Z"
   },
   {
    "duration": 12,
    "start_time": "2022-06-23T23:34:36.461Z"
   },
   {
    "duration": 4,
    "start_time": "2022-06-23T23:34:36.474Z"
   },
   {
    "duration": 9,
    "start_time": "2022-06-23T23:34:36.479Z"
   },
   {
    "duration": 6,
    "start_time": "2022-06-23T23:34:36.489Z"
   },
   {
    "duration": 5,
    "start_time": "2022-06-23T23:34:36.498Z"
   },
   {
    "duration": 131,
    "start_time": "2022-06-23T23:34:36.505Z"
   },
   {
    "duration": 5,
    "start_time": "2022-06-23T23:34:36.638Z"
   },
   {
    "duration": 136,
    "start_time": "2022-06-23T23:34:36.644Z"
   },
   {
    "duration": 262,
    "start_time": "2022-06-23T23:34:36.782Z"
   },
   {
    "duration": 205,
    "start_time": "2022-06-23T23:34:37.046Z"
   },
   {
    "duration": 6,
    "start_time": "2022-06-23T23:34:37.253Z"
   },
   {
    "duration": 44,
    "start_time": "2022-06-23T23:34:37.261Z"
   },
   {
    "duration": 745,
    "start_time": "2022-06-23T23:34:37.307Z"
   },
   {
    "duration": 6,
    "start_time": "2022-06-23T23:34:38.054Z"
   },
   {
    "duration": 172,
    "start_time": "2022-06-23T23:34:38.062Z"
   },
   {
    "duration": 163,
    "start_time": "2022-06-23T23:34:38.236Z"
   },
   {
    "duration": 125,
    "start_time": "2022-06-23T23:34:38.401Z"
   },
   {
    "duration": 4,
    "start_time": "2022-06-23T23:34:38.528Z"
   },
   {
    "duration": 11,
    "start_time": "2022-06-23T23:34:38.534Z"
   },
   {
    "duration": 761,
    "start_time": "2022-06-23T23:34:38.547Z"
   },
   {
    "duration": 246,
    "start_time": "2022-06-23T23:34:39.309Z"
   },
   {
    "duration": 6,
    "start_time": "2022-06-23T23:34:39.557Z"
   },
   {
    "duration": 196,
    "start_time": "2022-06-23T23:34:39.564Z"
   },
   {
    "duration": 33,
    "start_time": "2022-06-23T23:34:39.761Z"
   },
   {
    "duration": 6,
    "start_time": "2022-06-23T23:34:39.796Z"
   },
   {
    "duration": 24,
    "start_time": "2022-06-23T23:34:39.803Z"
   },
   {
    "duration": 12,
    "start_time": "2022-06-23T23:34:39.829Z"
   },
   {
    "duration": 6,
    "start_time": "2022-06-23T23:34:39.843Z"
   },
   {
    "duration": 11,
    "start_time": "2022-06-23T23:34:39.851Z"
   },
   {
    "duration": 7,
    "start_time": "2022-06-23T23:34:39.864Z"
   },
   {
    "duration": 196,
    "start_time": "2022-06-23T23:34:39.872Z"
   },
   {
    "duration": 7,
    "start_time": "2022-06-23T23:34:40.070Z"
   },
   {
    "duration": 8,
    "start_time": "2022-06-23T23:34:40.079Z"
   },
   {
    "duration": 17,
    "start_time": "2022-06-23T23:34:40.088Z"
   },
   {
    "duration": 32,
    "start_time": "2022-06-23T23:34:40.107Z"
   },
   {
    "duration": 6,
    "start_time": "2022-06-23T23:34:40.141Z"
   },
   {
    "duration": 14,
    "start_time": "2022-06-23T23:34:40.149Z"
   },
   {
    "duration": 9,
    "start_time": "2022-06-23T23:34:40.164Z"
   },
   {
    "duration": 8,
    "start_time": "2022-06-23T23:48:03.205Z"
   },
   {
    "duration": 7,
    "start_time": "2022-06-23T23:48:23.928Z"
   },
   {
    "duration": 87,
    "start_time": "2022-06-23T23:49:58.680Z"
   },
   {
    "duration": 1050,
    "start_time": "2022-06-23T23:51:45.319Z"
   },
   {
    "duration": 51,
    "start_time": "2022-06-23T23:51:46.371Z"
   },
   {
    "duration": 13,
    "start_time": "2022-06-23T23:51:46.424Z"
   },
   {
    "duration": 5,
    "start_time": "2022-06-23T23:51:46.439Z"
   },
   {
    "duration": 14,
    "start_time": "2022-06-23T23:51:46.445Z"
   },
   {
    "duration": 14,
    "start_time": "2022-06-23T23:51:46.461Z"
   },
   {
    "duration": 8,
    "start_time": "2022-06-23T23:51:46.477Z"
   },
   {
    "duration": 16,
    "start_time": "2022-06-23T23:51:46.486Z"
   },
   {
    "duration": 32,
    "start_time": "2022-06-23T23:51:46.503Z"
   },
   {
    "duration": 3,
    "start_time": "2022-06-23T23:51:46.537Z"
   },
   {
    "duration": 12,
    "start_time": "2022-06-23T23:51:46.541Z"
   },
   {
    "duration": 6,
    "start_time": "2022-06-23T23:51:46.554Z"
   },
   {
    "duration": 4,
    "start_time": "2022-06-23T23:51:46.561Z"
   },
   {
    "duration": 14,
    "start_time": "2022-06-23T23:51:46.566Z"
   },
   {
    "duration": 10,
    "start_time": "2022-06-23T23:51:46.582Z"
   },
   {
    "duration": 117,
    "start_time": "2022-06-23T23:51:46.593Z"
   },
   {
    "duration": 23,
    "start_time": "2022-06-23T23:51:46.711Z"
   },
   {
    "duration": 8,
    "start_time": "2022-06-23T23:51:46.736Z"
   },
   {
    "duration": 6,
    "start_time": "2022-06-23T23:51:46.746Z"
   },
   {
    "duration": 9,
    "start_time": "2022-06-23T23:51:46.753Z"
   },
   {
    "duration": 20,
    "start_time": "2022-06-23T23:51:46.763Z"
   },
   {
    "duration": 5,
    "start_time": "2022-06-23T23:51:46.784Z"
   },
   {
    "duration": 5,
    "start_time": "2022-06-23T23:51:46.790Z"
   },
   {
    "duration": 11,
    "start_time": "2022-06-23T23:51:46.796Z"
   },
   {
    "duration": 30,
    "start_time": "2022-06-23T23:51:46.808Z"
   },
   {
    "duration": 3,
    "start_time": "2022-06-23T23:51:46.840Z"
   },
   {
    "duration": 6,
    "start_time": "2022-06-23T23:51:46.844Z"
   },
   {
    "duration": 4,
    "start_time": "2022-06-23T23:51:46.853Z"
   },
   {
    "duration": 6,
    "start_time": "2022-06-23T23:51:46.859Z"
   },
   {
    "duration": 14,
    "start_time": "2022-06-23T23:51:46.866Z"
   },
   {
    "duration": 4,
    "start_time": "2022-06-23T23:51:46.882Z"
   },
   {
    "duration": 144,
    "start_time": "2022-06-23T23:51:46.887Z"
   },
   {
    "duration": 264,
    "start_time": "2022-06-23T23:51:47.032Z"
   },
   {
    "duration": 201,
    "start_time": "2022-06-23T23:51:47.298Z"
   },
   {
    "duration": 6,
    "start_time": "2022-06-23T23:51:47.500Z"
   },
   {
    "duration": 32,
    "start_time": "2022-06-23T23:51:47.508Z"
   },
   {
    "duration": 775,
    "start_time": "2022-06-23T23:51:47.542Z"
   },
   {
    "duration": 6,
    "start_time": "2022-06-23T23:51:48.319Z"
   },
   {
    "duration": 164,
    "start_time": "2022-06-23T23:51:48.326Z"
   },
   {
    "duration": 158,
    "start_time": "2022-06-23T23:51:48.492Z"
   },
   {
    "duration": 122,
    "start_time": "2022-06-23T23:51:48.652Z"
   },
   {
    "duration": 4,
    "start_time": "2022-06-23T23:51:48.776Z"
   },
   {
    "duration": 13,
    "start_time": "2022-06-23T23:51:48.781Z"
   },
   {
    "duration": 728,
    "start_time": "2022-06-23T23:51:48.796Z"
   },
   {
    "duration": 247,
    "start_time": "2022-06-23T23:51:49.526Z"
   },
   {
    "duration": 6,
    "start_time": "2022-06-23T23:51:49.775Z"
   },
   {
    "duration": 181,
    "start_time": "2022-06-23T23:51:49.782Z"
   },
   {
    "duration": 32,
    "start_time": "2022-06-23T23:51:49.964Z"
   },
   {
    "duration": 6,
    "start_time": "2022-06-23T23:51:49.997Z"
   },
   {
    "duration": 22,
    "start_time": "2022-06-23T23:51:50.005Z"
   },
   {
    "duration": 7,
    "start_time": "2022-06-23T23:51:50.029Z"
   },
   {
    "duration": 8,
    "start_time": "2022-06-23T23:51:50.038Z"
   },
   {
    "duration": 13,
    "start_time": "2022-06-23T23:51:50.047Z"
   },
   {
    "duration": 8,
    "start_time": "2022-06-23T23:51:50.062Z"
   },
   {
    "duration": 204,
    "start_time": "2022-06-23T23:51:50.072Z"
   },
   {
    "duration": 8,
    "start_time": "2022-06-23T23:51:50.278Z"
   },
   {
    "duration": 25,
    "start_time": "2022-06-23T23:51:50.287Z"
   },
   {
    "duration": 14,
    "start_time": "2022-06-23T23:51:50.314Z"
   },
   {
    "duration": 25,
    "start_time": "2022-06-23T23:51:50.330Z"
   },
   {
    "duration": 9,
    "start_time": "2022-06-23T23:51:50.357Z"
   },
   {
    "duration": 12,
    "start_time": "2022-06-23T23:51:50.368Z"
   },
   {
    "duration": 11,
    "start_time": "2022-06-23T23:51:50.382Z"
   },
   {
    "duration": 35,
    "start_time": "2022-06-23T23:51:50.394Z"
   },
   {
    "duration": 9,
    "start_time": "2022-06-23T23:51:50.430Z"
   },
   {
    "duration": 29,
    "start_time": "2022-06-23T23:51:50.440Z"
   }
  ],
  "kernelspec": {
   "display_name": "Python 3 (ipykernel)",
   "language": "python",
   "name": "python3"
  },
  "language_info": {
   "codemirror_mode": {
    "name": "ipython",
    "version": 3
   },
   "file_extension": ".py",
   "mimetype": "text/x-python",
   "name": "python",
   "nbconvert_exporter": "python",
   "pygments_lexer": "ipython3",
   "version": "3.9.7"
  },
  "toc": {
   "base_numbering": 1,
   "nav_menu": {},
   "number_sections": true,
   "sideBar": true,
   "skip_h1_title": true,
   "title_cell": "Table of Contents",
   "title_sidebar": "Contents",
   "toc_cell": false,
   "toc_position": {},
   "toc_section_display": true,
   "toc_window_display": false
  }
 },
 "nbformat": 4,
 "nbformat_minor": 2
}
